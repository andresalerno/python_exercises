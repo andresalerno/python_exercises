{
 "cells": [
  {
   "cell_type": "markdown",
   "metadata": {},
   "source": [
    "# Stack ordering"
   ]
  },
  {
   "cell_type": "code",
   "execution_count": 19,
   "metadata": {},
   "outputs": [
    {
     "name": "stdout",
     "output_type": "stream",
     "text": [
      "Stack is full!\n",
      "Stack is full!\n",
      "Stack is full!\n",
      "Stack currently contains: \n",
      "1\n",
      "2\n",
      "3\n"
     ]
    }
   ],
   "source": [
    "MyStack = []\n",
    "StackSize = 3\n",
    "\n",
    "def DisplayStack():\n",
    "    print(\"Stack currently contains: \")\n",
    "    for Item in MyStack:\n",
    "        print(Item)\n",
    "        \n",
    "def Push(Value):\n",
    "    if len(MyStack) < StackSize:\n",
    "        MyStack.append(Value)\n",
    "    else:\n",
    "        print(\"Stack is full!\")\n",
    " \n",
    "# Python list method pop() removes and returns last object or obj from the list.\n",
    "def Pop():\n",
    "    if len(MyStack) > 0:\n",
    "        print(\"Popping: \", MyStack.pop())\n",
    "    else:\n",
    "        print(\"Stack is empty.\")\n",
    "        \n",
    "Push(1)\n",
    "Push(2)\n",
    "Push(3)\n",
    "Push(4)\n",
    "Push(5)\n",
    "Push(6)\n",
    "\n",
    "\n",
    "\n",
    "DisplayStack()"
   ]
  },
  {
   "cell_type": "code",
   "execution_count": 20,
   "metadata": {},
   "outputs": [
    {
     "name": "stdout",
     "output_type": "stream",
     "text": [
      "Popping:  3\n",
      "Popping:  2\n",
      "Stack currently contains: \n",
      "1\n"
     ]
    }
   ],
   "source": [
    "Pop()\n",
    "Pop()\n",
    "DisplayStack()"
   ]
  },
  {
   "cell_type": "code",
   "execution_count": null,
   "metadata": {},
   "outputs": [],
   "source": [
    "\n"
   ]
  },
  {
   "cell_type": "code",
   "execution_count": null,
   "metadata": {},
   "outputs": [],
   "source": []
  }
 ],
 "metadata": {
  "kernelspec": {
   "display_name": "Python 3",
   "language": "python",
   "name": "python3"
  },
  "language_info": {
   "codemirror_mode": {
    "name": "ipython",
    "version": 3
   },
   "file_extension": ".py",
   "mimetype": "text/x-python",
   "name": "python",
   "nbconvert_exporter": "python",
   "pygments_lexer": "ipython3",
   "version": "3.7.3"
  }
 },
 "nbformat": 4,
 "nbformat_minor": 2
}
