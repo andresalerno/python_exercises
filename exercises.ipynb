{
 "cells": [
  {
   "cell_type": "code",
   "execution_count": 12,
   "metadata": {},
   "outputs": [],
   "source": [
    "list = [1, 2, 3, 4, 5, 6]"
   ]
  },
  {
   "cell_type": "code",
   "execution_count": 13,
   "metadata": {},
   "outputs": [
    {
     "name": "stdout",
     "output_type": "stream",
     "text": [
      "[1, 2, 3, 4, 5, 6]\n"
     ]
    }
   ],
   "source": [
    "print(list)"
   ]
  },
  {
   "cell_type": "code",
   "execution_count": 14,
   "metadata": {},
   "outputs": [
    {
     "name": "stdout",
     "output_type": "stream",
     "text": [
      "1\n",
      "2\n",
      "3\n",
      "4\n",
      "5\n",
      "6\n"
     ]
    }
   ],
   "source": [
    "for i in list:\n",
    "    print(i)"
   ]
  },
  {
   "cell_type": "code",
   "execution_count": 15,
   "metadata": {},
   "outputs": [
    {
     "name": "stdout",
     "output_type": "stream",
     "text": [
      "Not exists\n"
     ]
    }
   ],
   "source": [
    "i = 7\n",
    "\n",
    "if i in list:\n",
    "    print('Exists')\n",
    "else:\n",
    "    print('Not exists')"
   ]
  },
  {
   "cell_type": "code",
   "execution_count": 16,
   "metadata": {},
   "outputs": [
    {
     "name": "stdout",
     "output_type": "stream",
     "text": [
      "Exists\n"
     ]
    }
   ],
   "source": [
    "for i in list:\n",
    "    if(i == 6):\n",
    "        print('Exists')"
   ]
  },
  {
   "cell_type": "code",
   "execution_count": 17,
   "metadata": {},
   "outputs": [],
   "source": [
    "if (7 in list):\n",
    "    print('Exists')"
   ]
  },
  {
   "cell_type": "code",
   "execution_count": 18,
   "metadata": {},
   "outputs": [
    {
     "name": "stdout",
     "output_type": "stream",
     "text": [
      "Does string contain any list element : True\n"
     ]
    }
   ],
   "source": [
    "result = any(6 in list for i in list)\n",
    "print('Does string contain any list element : ' +str(bool(result)))"
   ]
  },
  {
   "attachments": {},
   "cell_type": "markdown",
   "metadata": {},
   "source": [
    "### os.Path"
   ]
  },
  {
   "cell_type": "code",
   "execution_count": 19,
   "metadata": {},
   "outputs": [],
   "source": [
    "import os"
   ]
  },
  {
   "cell_type": "code",
   "execution_count": 13,
   "metadata": {},
   "outputs": [],
   "source": [
    "cwd = os.getcwd()"
   ]
  },
  {
   "cell_type": "code",
   "execution_count": 21,
   "metadata": {},
   "outputs": [],
   "source": [
    "if not os.path.exists(os.path.join(cwd, 'test')):\n",
    "    os.makedirs(os.path.join(cwd, 'test'))"
   ]
  },
  {
   "cell_type": "code",
   "execution_count": 22,
   "metadata": {},
   "outputs": [],
   "source": [
    "if not os.path.isdir(os.path.join(cwd, 'test')):\n",
    "    os.makedirs(os.path.join(cwd, 'test'))"
   ]
  },
  {
   "cell_type": "code",
   "execution_count": 23,
   "metadata": {},
   "outputs": [
    {
     "data": {
      "text/plain": [
       "'c:\\\\Users\\\\andre\\\\OneDrive\\\\Documentos\\\\Private\\\\Salerno\\\\Profissional\\\\1) AS PARTNERS\\\\Data Fintech Solutions\\\\fidcs\\\\python_exercises'"
      ]
     },
     "execution_count": 23,
     "metadata": {},
     "output_type": "execute_result"
    }
   ],
   "source": [
    "os.path.abspath(cwd)"
   ]
  },
  {
   "cell_type": "code",
   "execution_count": 24,
   "metadata": {},
   "outputs": [
    {
     "data": {
      "text/plain": [
       "'python_exercises'"
      ]
     },
     "execution_count": 24,
     "metadata": {},
     "output_type": "execute_result"
    }
   ],
   "source": [
    "os.path.basename(cwd)"
   ]
  },
  {
   "cell_type": "code",
   "execution_count": 25,
   "metadata": {},
   "outputs": [
    {
     "data": {
      "text/plain": [
       "'c:\\\\Users\\\\andre\\\\OneDrive\\\\Documentos\\\\Private\\\\Salerno\\\\Profissional\\\\1) AS PARTNERS\\\\Data Fintech Solutions\\\\fidcs'"
      ]
     },
     "execution_count": 25,
     "metadata": {},
     "output_type": "execute_result"
    }
   ],
   "source": [
    "os.path.dirname(cwd)"
   ]
  },
  {
   "cell_type": "code",
   "execution_count": 26,
   "metadata": {},
   "outputs": [
    {
     "data": {
      "text/plain": [
       "1673278709.4137895"
      ]
     },
     "execution_count": 26,
     "metadata": {},
     "output_type": "execute_result"
    }
   ],
   "source": [
    "os.path.getatime(cwd)"
   ]
  },
  {
   "cell_type": "code",
   "execution_count": 27,
   "metadata": {},
   "outputs": [
    {
     "data": {
      "text/plain": [
       "True"
      ]
     },
     "execution_count": 27,
     "metadata": {},
     "output_type": "execute_result"
    }
   ],
   "source": [
    "os.path.isfile('exercises.ipynb')"
   ]
  },
  {
   "cell_type": "code",
   "execution_count": 28,
   "metadata": {},
   "outputs": [
    {
     "data": {
      "text/plain": [
       "('c:\\\\Users\\\\andre\\\\OneDrive\\\\Documentos\\\\Private\\\\Salerno\\\\Profissional\\\\1) AS PARTNERS\\\\Data Fintech Solutions\\\\fidcs',\n",
       " 'python_exercises')"
      ]
     },
     "execution_count": 28,
     "metadata": {},
     "output_type": "execute_result"
    }
   ],
   "source": [
    "os.path.split(cwd)"
   ]
  },
  {
   "cell_type": "code",
   "execution_count": 29,
   "metadata": {},
   "outputs": [
    {
     "data": {
      "text/plain": [
       "('c:',\n",
       " '\\\\Users\\\\andre\\\\OneDrive\\\\Documentos\\\\Private\\\\Salerno\\\\Profissional\\\\1) AS PARTNERS\\\\Data Fintech Solutions\\\\fidcs\\\\python_exercises')"
      ]
     },
     "execution_count": 29,
     "metadata": {},
     "output_type": "execute_result"
    }
   ],
   "source": [
    "os.path.splitdrive(cwd)"
   ]
  },
  {
   "attachments": {},
   "cell_type": "markdown",
   "metadata": {},
   "source": [
    "### Web Scraping"
   ]
  },
  {
   "attachments": {},
   "cell_type": "markdown",
   "metadata": {},
   "source": [
    "#### 1. Importing libraries"
   ]
  },
  {
   "cell_type": "code",
   "execution_count": 2,
   "metadata": {},
   "outputs": [],
   "source": [
    "import requests\n",
    "from bs4 import BeautifulSoup"
   ]
  },
  {
   "attachments": {},
   "cell_type": "markdown",
   "metadata": {},
   "source": [
    "#### 2. Fetching URL's"
   ]
  },
  {
   "cell_type": "code",
   "execution_count": 109,
   "metadata": {},
   "outputs": [],
   "source": [
    "url = 'https://dados.cvm.gov.br/dados/FIDC/DOC/INF_MENSAL/DADOS/'\n",
    "\n",
    "urls = []\n",
    "\n",
    "def fetching_urls():\n",
    "    reqs = requests.get(url)\n",
    "    soup = BeautifulSoup(reqs.text, 'html.parser')\n",
    " \n",
    "    for link in soup.find_all('a'):\n",
    "        if link.get('href').startswith('inf_mensal_'):\n",
    "            urls.append(os.path.join(url, str(link.get('href'))))"
   ]
  },
  {
   "cell_type": "code",
   "execution_count": 110,
   "metadata": {},
   "outputs": [],
   "source": [
    "fetching_urls()"
   ]
  },
  {
   "cell_type": "code",
   "execution_count": 111,
   "metadata": {},
   "outputs": [
    {
     "name": "stdout",
     "output_type": "stream",
     "text": [
      "['https://dados.cvm.gov.br/dados/FIDC/DOC/INF_MENSAL/DADOS/inf_mensal_fidc_201901.zip', 'https://dados.cvm.gov.br/dados/FIDC/DOC/INF_MENSAL/DADOS/inf_mensal_fidc_201902.zip', 'https://dados.cvm.gov.br/dados/FIDC/DOC/INF_MENSAL/DADOS/inf_mensal_fidc_201903.zip', 'https://dados.cvm.gov.br/dados/FIDC/DOC/INF_MENSAL/DADOS/inf_mensal_fidc_201904.zip', 'https://dados.cvm.gov.br/dados/FIDC/DOC/INF_MENSAL/DADOS/inf_mensal_fidc_201905.zip', 'https://dados.cvm.gov.br/dados/FIDC/DOC/INF_MENSAL/DADOS/inf_mensal_fidc_201906.zip', 'https://dados.cvm.gov.br/dados/FIDC/DOC/INF_MENSAL/DADOS/inf_mensal_fidc_201907.zip', 'https://dados.cvm.gov.br/dados/FIDC/DOC/INF_MENSAL/DADOS/inf_mensal_fidc_201908.zip', 'https://dados.cvm.gov.br/dados/FIDC/DOC/INF_MENSAL/DADOS/inf_mensal_fidc_201909.zip', 'https://dados.cvm.gov.br/dados/FIDC/DOC/INF_MENSAL/DADOS/inf_mensal_fidc_201910.zip', 'https://dados.cvm.gov.br/dados/FIDC/DOC/INF_MENSAL/DADOS/inf_mensal_fidc_201911.zip', 'https://dados.cvm.gov.br/dados/FIDC/DOC/INF_MENSAL/DADOS/inf_mensal_fidc_201912.zip', 'https://dados.cvm.gov.br/dados/FIDC/DOC/INF_MENSAL/DADOS/inf_mensal_fidc_202001.zip', 'https://dados.cvm.gov.br/dados/FIDC/DOC/INF_MENSAL/DADOS/inf_mensal_fidc_202002.zip', 'https://dados.cvm.gov.br/dados/FIDC/DOC/INF_MENSAL/DADOS/inf_mensal_fidc_202003.zip', 'https://dados.cvm.gov.br/dados/FIDC/DOC/INF_MENSAL/DADOS/inf_mensal_fidc_202004.zip', 'https://dados.cvm.gov.br/dados/FIDC/DOC/INF_MENSAL/DADOS/inf_mensal_fidc_202005.zip', 'https://dados.cvm.gov.br/dados/FIDC/DOC/INF_MENSAL/DADOS/inf_mensal_fidc_202006.zip', 'https://dados.cvm.gov.br/dados/FIDC/DOC/INF_MENSAL/DADOS/inf_mensal_fidc_202007.zip', 'https://dados.cvm.gov.br/dados/FIDC/DOC/INF_MENSAL/DADOS/inf_mensal_fidc_202008.zip', 'https://dados.cvm.gov.br/dados/FIDC/DOC/INF_MENSAL/DADOS/inf_mensal_fidc_202009.zip', 'https://dados.cvm.gov.br/dados/FIDC/DOC/INF_MENSAL/DADOS/inf_mensal_fidc_202010.zip', 'https://dados.cvm.gov.br/dados/FIDC/DOC/INF_MENSAL/DADOS/inf_mensal_fidc_202011.zip', 'https://dados.cvm.gov.br/dados/FIDC/DOC/INF_MENSAL/DADOS/inf_mensal_fidc_202012.zip', 'https://dados.cvm.gov.br/dados/FIDC/DOC/INF_MENSAL/DADOS/inf_mensal_fidc_202101.zip', 'https://dados.cvm.gov.br/dados/FIDC/DOC/INF_MENSAL/DADOS/inf_mensal_fidc_202102.zip', 'https://dados.cvm.gov.br/dados/FIDC/DOC/INF_MENSAL/DADOS/inf_mensal_fidc_202103.zip', 'https://dados.cvm.gov.br/dados/FIDC/DOC/INF_MENSAL/DADOS/inf_mensal_fidc_202104.zip', 'https://dados.cvm.gov.br/dados/FIDC/DOC/INF_MENSAL/DADOS/inf_mensal_fidc_202105.zip', 'https://dados.cvm.gov.br/dados/FIDC/DOC/INF_MENSAL/DADOS/inf_mensal_fidc_202106.zip', 'https://dados.cvm.gov.br/dados/FIDC/DOC/INF_MENSAL/DADOS/inf_mensal_fidc_202107.zip', 'https://dados.cvm.gov.br/dados/FIDC/DOC/INF_MENSAL/DADOS/inf_mensal_fidc_202108.zip', 'https://dados.cvm.gov.br/dados/FIDC/DOC/INF_MENSAL/DADOS/inf_mensal_fidc_202109.zip', 'https://dados.cvm.gov.br/dados/FIDC/DOC/INF_MENSAL/DADOS/inf_mensal_fidc_202110.zip', 'https://dados.cvm.gov.br/dados/FIDC/DOC/INF_MENSAL/DADOS/inf_mensal_fidc_202111.zip', 'https://dados.cvm.gov.br/dados/FIDC/DOC/INF_MENSAL/DADOS/inf_mensal_fidc_202112.zip', 'https://dados.cvm.gov.br/dados/FIDC/DOC/INF_MENSAL/DADOS/inf_mensal_fidc_202201.zip', 'https://dados.cvm.gov.br/dados/FIDC/DOC/INF_MENSAL/DADOS/inf_mensal_fidc_202202.zip', 'https://dados.cvm.gov.br/dados/FIDC/DOC/INF_MENSAL/DADOS/inf_mensal_fidc_202203.zip', 'https://dados.cvm.gov.br/dados/FIDC/DOC/INF_MENSAL/DADOS/inf_mensal_fidc_202204.zip', 'https://dados.cvm.gov.br/dados/FIDC/DOC/INF_MENSAL/DADOS/inf_mensal_fidc_202205.zip', 'https://dados.cvm.gov.br/dados/FIDC/DOC/INF_MENSAL/DADOS/inf_mensal_fidc_202206.zip', 'https://dados.cvm.gov.br/dados/FIDC/DOC/INF_MENSAL/DADOS/inf_mensal_fidc_202207.zip', 'https://dados.cvm.gov.br/dados/FIDC/DOC/INF_MENSAL/DADOS/inf_mensal_fidc_202208.zip', 'https://dados.cvm.gov.br/dados/FIDC/DOC/INF_MENSAL/DADOS/inf_mensal_fidc_202209.zip', 'https://dados.cvm.gov.br/dados/FIDC/DOC/INF_MENSAL/DADOS/inf_mensal_fidc_202210.zip', 'https://dados.cvm.gov.br/dados/FIDC/DOC/INF_MENSAL/DADOS/inf_mensal_fidc_202211.zip', 'https://dados.cvm.gov.br/dados/FIDC/DOC/INF_MENSAL/DADOS/inf_mensal_fidc_202212.zip']\n"
     ]
    }
   ],
   "source": [
    "print(urls)"
   ]
  },
  {
   "attachments": {},
   "cell_type": "markdown",
   "metadata": {},
   "source": [
    "#### 3. Checking number of characters e/or similarities"
   ]
  },
  {
   "cell_type": "code",
   "execution_count": 11,
   "metadata": {},
   "outputs": [],
   "source": [
    "# file names with the same patter, I mean, 26 characters\n",
    "\n",
    "import numpy as np\n",
    "\n",
    "def number_charact_file_name(i):\n",
    "    array_nr_charac = np.array([len(i) for i in urls])\n",
    "    print(array_nr_charac)\n",
    "    print(len(array_nr_charac))"
   ]
  },
  {
   "cell_type": "code",
   "execution_count": 12,
   "metadata": {},
   "outputs": [
    {
     "name": "stdout",
     "output_type": "stream",
     "text": [
      "[83 83 83 83 83 83 83 83 83 83 83 83 83 83 83 83 83 83 83 83 83 83 83 83\n",
      " 83 83 83 83 83 83 83 83 83 83 83 83 83 83 83 83 83 83 83 83 83 83 83 83]\n",
      "48\n"
     ]
    }
   ],
   "source": [
    "number_charact_file_name(urls)"
   ]
  },
  {
   "attachments": {},
   "cell_type": "markdown",
   "metadata": {},
   "source": [
    "#### 4. Creating directory if it is not exist"
   ]
  },
  {
   "cell_type": "code",
   "execution_count": 43,
   "metadata": {},
   "outputs": [
    {
     "name": "stdout",
     "output_type": "stream",
     "text": [
      "c:\\Users\\andre\\OneDrive\\Documentos\\Private\\Salerno\\Profissional\\1) AS PARTNERS\\Data Fintech Solutions\\fidcs\\python_exercises\n"
     ]
    }
   ],
   "source": [
    "import os\n",
    "path = 'c:\\\\Users\\\\andre\\\\OneDrive\\\\Documentos\\\\Private\\\\Salerno\\\\Profissional\\\\1) AS PARTNERS\\\\Data Fintech Solutions\\\\fidcs\\\\python_exercises'\n",
    "cwd = os.path.abspath(path)\n",
    "print(cwd)"
   ]
  },
  {
   "cell_type": "code",
   "execution_count": 48,
   "metadata": {},
   "outputs": [],
   "source": [
    "os.chdir(cwd)"
   ]
  },
  {
   "cell_type": "code",
   "execution_count": 49,
   "metadata": {},
   "outputs": [
    {
     "data": {
      "text/plain": [
       "'c:\\\\Users\\\\andre\\\\OneDrive\\\\Documentos\\\\Private\\\\Salerno\\\\Profissional\\\\1) AS PARTNERS\\\\Data Fintech Solutions\\\\fidcs\\\\python_exercises'"
      ]
     },
     "execution_count": 49,
     "metadata": {},
     "output_type": "execute_result"
    }
   ],
   "source": [
    "os.getcwd()"
   ]
  },
  {
   "cell_type": "code",
   "execution_count": 51,
   "metadata": {},
   "outputs": [
    {
     "data": {
      "text/plain": [
       "'c:\\\\Users\\\\andre\\\\OneDrive\\\\Documentos\\\\Private\\\\Salerno\\\\Profissional\\\\1) AS PARTNERS\\\\Data Fintech Solutions\\\\fidcs'"
      ]
     },
     "execution_count": 51,
     "metadata": {},
     "output_type": "execute_result"
    }
   ],
   "source": [
    "os.path.basename(cwd)\n",
    "os.path.dirname(cwd)\n",
    "\n"
   ]
  },
  {
   "cell_type": "code",
   "execution_count": 18,
   "metadata": {},
   "outputs": [],
   "source": [
    "def check_dir_raw_exists():\n",
    "    if not os.path.isdir(os.path.join(cwd, 'raw')):\n",
    "        print('Directory does not exist!')\n",
    "        os.makedirs(os.path.join(cwd, 'raw'))\n",
    "        return('Directory has just created!')\n"
   ]
  },
  {
   "cell_type": "code",
   "execution_count": 19,
   "metadata": {},
   "outputs": [],
   "source": [
    "check_dir_raw_exists()"
   ]
  },
  {
   "cell_type": "code",
   "execution_count": 58,
   "metadata": {},
   "outputs": [],
   "source": [
    "def check_dir_extract_exists():\n",
    "    if not os.path.isdir(os.path.join(cwd, 'extract')):\n",
    "        os.makedirs(os.path.join(cwd, 'extract'))\n",
    "        return()"
   ]
  },
  {
   "cell_type": "code",
   "execution_count": 59,
   "metadata": {},
   "outputs": [
    {
     "data": {
      "text/plain": [
       "()"
      ]
     },
     "execution_count": 59,
     "metadata": {},
     "output_type": "execute_result"
    }
   ],
   "source": [
    "check_dir_extract_exists()"
   ]
  },
  {
   "cell_type": "code",
   "execution_count": 340,
   "metadata": {},
   "outputs": [],
   "source": [
    "import zipfile\n",
    "from zipfile import ZipFile\n",
    "\n",
    "def list_name_files_zipFiles(i):\n",
    "    with ZipFile(i, 'r') as zipObject:\n",
    "        listOfFileNames = zipObject.namelist()\n",
    "        return(listOfFileNames)"
   ]
  },
  {
   "cell_type": "code",
   "execution_count": null,
   "metadata": {},
   "outputs": [],
   "source": [
    "cwd = os.getcwd()\n",
    "\n",
    "def check_dir_exists(i):\n",
    "\n",
    "    if not os.path.isdir(os.path.join(cwd, 'extract\\\\', i)):\n",
    "        os.makedirs(os.path.join(cwd, 'extract\\\\', i))\n",
    "        return()"
   ]
  },
  {
   "attachments": {},
   "cell_type": "markdown",
   "metadata": {},
   "source": [
    "### 5. Importing files from web"
   ]
  },
  {
   "cell_type": "code",
   "execution_count": 6,
   "metadata": {},
   "outputs": [
    {
     "name": "stderr",
     "output_type": "stream",
     "text": [
      "C:\\Users\\andre\\AppData\\Local\\Temp\\ipykernel_16040\\1058838831.py:10: DeprecationWarning: use options instead of chrome_options\n",
      "  driver = webdriver.Chrome(chrome_options=options)\n"
     ]
    }
   ],
   "source": [
    "import time\n",
    "from selenium import webdriver\n",
    "from selenium.webdriver.chrome.options import Options\n",
    "\n",
    "url = 'https://dados.cvm.gov.br/dados/FIDC/DOC/INF_MENSAL/DADOS/'\n",
    "\n",
    "options = webdriver.ChromeOptions() \n",
    "options.add_argument(\"download.default_directory=/raw\")\n",
    "options.page_load_strategy = 'normal'\n",
    "driver = webdriver.Chrome(chrome_options=options)\n",
    "\n",
    "\n",
    "driver.get(url)\n",
    "driver.quit()"
   ]
  },
  {
   "attachments": {},
   "cell_type": "markdown",
   "metadata": {},
   "source": [
    "### 6. Extract name's files"
   ]
  },
  {
   "cell_type": "code",
   "execution_count": 115,
   "metadata": {},
   "outputs": [],
   "source": [
    "\n",
    "\n",
    "name_files = []\n",
    "\n",
    "def extract_name_files():\n",
    "    reqs = requests.get(url)\n",
    "    soup = BeautifulSoup(reqs.text, 'html.parser')\n",
    " \n",
    "    for link in soup.find_all('a'):\n",
    "        if link.get('href').startswith('inf_mensal_'):\n",
    "            name_files.append((link.get('href')))\n"
   ]
  },
  {
   "cell_type": "code",
   "execution_count": 116,
   "metadata": {},
   "outputs": [],
   "source": [
    "extract_name_files()"
   ]
  },
  {
   "cell_type": "code",
   "execution_count": 117,
   "metadata": {},
   "outputs": [
    {
     "name": "stdout",
     "output_type": "stream",
     "text": [
      "['inf_mensal_fidc_201901.zip', 'inf_mensal_fidc_201902.zip', 'inf_mensal_fidc_201903.zip', 'inf_mensal_fidc_201904.zip', 'inf_mensal_fidc_201905.zip', 'inf_mensal_fidc_201906.zip', 'inf_mensal_fidc_201907.zip', 'inf_mensal_fidc_201908.zip', 'inf_mensal_fidc_201909.zip', 'inf_mensal_fidc_201910.zip', 'inf_mensal_fidc_201911.zip', 'inf_mensal_fidc_201912.zip', 'inf_mensal_fidc_202001.zip', 'inf_mensal_fidc_202002.zip', 'inf_mensal_fidc_202003.zip', 'inf_mensal_fidc_202004.zip', 'inf_mensal_fidc_202005.zip', 'inf_mensal_fidc_202006.zip', 'inf_mensal_fidc_202007.zip', 'inf_mensal_fidc_202008.zip', 'inf_mensal_fidc_202009.zip', 'inf_mensal_fidc_202010.zip', 'inf_mensal_fidc_202011.zip', 'inf_mensal_fidc_202012.zip', 'inf_mensal_fidc_202101.zip', 'inf_mensal_fidc_202102.zip', 'inf_mensal_fidc_202103.zip', 'inf_mensal_fidc_202104.zip', 'inf_mensal_fidc_202105.zip', 'inf_mensal_fidc_202106.zip', 'inf_mensal_fidc_202107.zip', 'inf_mensal_fidc_202108.zip', 'inf_mensal_fidc_202109.zip', 'inf_mensal_fidc_202110.zip', 'inf_mensal_fidc_202111.zip', 'inf_mensal_fidc_202112.zip', 'inf_mensal_fidc_202201.zip', 'inf_mensal_fidc_202202.zip', 'inf_mensal_fidc_202203.zip', 'inf_mensal_fidc_202204.zip', 'inf_mensal_fidc_202205.zip', 'inf_mensal_fidc_202206.zip', 'inf_mensal_fidc_202207.zip', 'inf_mensal_fidc_202208.zip', 'inf_mensal_fidc_202209.zip', 'inf_mensal_fidc_202210.zip', 'inf_mensal_fidc_202211.zip', 'inf_mensal_fidc_202212.zip']\n"
     ]
    }
   ],
   "source": [
    "print(name_files)"
   ]
  },
  {
   "attachments": {},
   "cell_type": "markdown",
   "metadata": {},
   "source": [
    "### 7. Download files"
   ]
  },
  {
   "cell_type": "code",
   "execution_count": 194,
   "metadata": {},
   "outputs": [],
   "source": [
    "from urllib import request\n",
    "\n",
    "def download_files():\n",
    "    for file in name_files:\n",
    "        # checking if the file exists\n",
    "        if not os.path.exists(os.path.join(cwd, 'raw\\\\', file)):\n",
    "            # Download remote and save locally\n",
    "            for url in urls:\n",
    "                for name in name_files:\n",
    "                    request.urlretrieve(url, 'raw/{}'.format(name))"
   ]
  },
  {
   "attachments": {},
   "cell_type": "markdown",
   "metadata": {},
   "source": [
    "### 8. List files in the directory"
   ]
  },
  {
   "cell_type": "code",
   "execution_count": 11,
   "metadata": {},
   "outputs": [
    {
     "name": "stdout",
     "output_type": "stream",
     "text": [
      "inf_mensal_fidc_201901.zip\n",
      "inf_mensal_fidc_201902.zip\n",
      "inf_mensal_fidc_201903.zip\n",
      "inf_mensal_fidc_201904.zip\n",
      "inf_mensal_fidc_201905.zip\n",
      "inf_mensal_fidc_201906.zip\n",
      "inf_mensal_fidc_201907.zip\n",
      "inf_mensal_fidc_201908.zip\n",
      "inf_mensal_fidc_201909.zip\n",
      "inf_mensal_fidc_201910.zip\n",
      "inf_mensal_fidc_201911.zip\n",
      "inf_mensal_fidc_201912.zip\n",
      "inf_mensal_fidc_202001.zip\n",
      "inf_mensal_fidc_202002.zip\n",
      "inf_mensal_fidc_202003.zip\n",
      "inf_mensal_fidc_202004.zip\n",
      "inf_mensal_fidc_202005.zip\n",
      "inf_mensal_fidc_202006.zip\n",
      "inf_mensal_fidc_202007.zip\n",
      "inf_mensal_fidc_202008.zip\n",
      "inf_mensal_fidc_202009.zip\n",
      "inf_mensal_fidc_202010.zip\n",
      "inf_mensal_fidc_202011.zip\n",
      "inf_mensal_fidc_202012.zip\n",
      "inf_mensal_fidc_202101.zip\n",
      "inf_mensal_fidc_202102.zip\n",
      "inf_mensal_fidc_202103.zip\n",
      "inf_mensal_fidc_202104.zip\n",
      "inf_mensal_fidc_202105.zip\n",
      "inf_mensal_fidc_202106.zip\n",
      "inf_mensal_fidc_202107.zip\n",
      "inf_mensal_fidc_202108.zip\n",
      "inf_mensal_fidc_202109.zip\n",
      "inf_mensal_fidc_202110.zip\n",
      "inf_mensal_fidc_202111.zip\n",
      "inf_mensal_fidc_202112.zip\n",
      "inf_mensal_fidc_202201.zip\n",
      "inf_mensal_fidc_202202.zip\n",
      "inf_mensal_fidc_202203.zip\n",
      "inf_mensal_fidc_202204.zip\n",
      "inf_mensal_fidc_202205.zip\n",
      "inf_mensal_fidc_202206.zip\n",
      "inf_mensal_fidc_202207.zip\n",
      "inf_mensal_fidc_202208.zip\n",
      "inf_mensal_fidc_202209.zip\n",
      "inf_mensal_fidc_202210.zip\n",
      "inf_mensal_fidc_202211.zip\n",
      "inf_mensal_fidc_202212.zip\n",
      "inf_mensal_fidc_201901.zip\n",
      "48\n"
     ]
    },
    {
     "data": {
      "text/plain": [
       "list"
      ]
     },
     "execution_count": 11,
     "metadata": {},
     "output_type": "execute_result"
    }
   ],
   "source": [
    "list_zipFiles = os.listdir('./../python_exercises/raw')\n",
    "for zipFile in list_zipFiles:\n",
    "    print(zipFile)\n",
    "\n",
    "print(list_zipFiles[0])\n",
    "print(len(list_zipFiles))\n",
    "type(list_zipFiles)"
   ]
  },
  {
   "attachments": {},
   "cell_type": "markdown",
   "metadata": {},
   "source": [
    "### 9. Defining a function for checking if a directory exists"
   ]
  },
  {
   "cell_type": "code",
   "execution_count": 442,
   "metadata": {},
   "outputs": [],
   "source": [
    "def check_dir_tab_exists():\n",
    "    if not os.path.isdir(os.path.join(cwd, 'tab_I')):\n",
    "        os.makedirs(os.path.join(cwd, 'tab_I'))\n",
    "        return()"
   ]
  },
  {
   "cell_type": "code",
   "execution_count": 12,
   "metadata": {},
   "outputs": [
    {
     "ename": "NameError",
     "evalue": "name 'cwd' is not defined",
     "output_type": "error",
     "traceback": [
      "\u001b[1;31m---------------------------------------------------------------------------\u001b[0m",
      "\u001b[1;31mNameError\u001b[0m                                 Traceback (most recent call last)",
      "\u001b[1;32mc:\\Users\\andre\\OneDrive\\Documentos\\Private\\Salerno\\Profissional\\1) AS PARTNERS\\Data Fintech Solutions\\fidcs\\python_exercises\\exercises.ipynb Cell 53\u001b[0m in \u001b[0;36m<cell line: 1>\u001b[1;34m()\u001b[0m\n\u001b[1;32m----> <a href='vscode-notebook-cell:/c%3A/Users/andre/OneDrive/Documentos/Private/Salerno/Profissional/1%29%20AS%20PARTNERS/Data%20Fintech%20Solutions/fidcs/python_exercises/exercises.ipynb#Y116sZmlsZQ%3D%3D?line=0'>1</a>\u001b[0m \u001b[39mprint\u001b[39m(cwd)\n",
      "\u001b[1;31mNameError\u001b[0m: name 'cwd' is not defined"
     ]
    }
   ],
   "source": [
    "print(cwd)"
   ]
  },
  {
   "cell_type": "code",
   "execution_count": 447,
   "metadata": {},
   "outputs": [],
   "source": [
    "list_tab_I = []\n",
    "\n",
    "def extract_all_zipFiles():\n",
    "    for fileZipe in list_zipFiles:\n",
    "        with ZipFile(fileZipe, 'r') as zipObject:\n",
    "            for fileName in zipObject.namelist():\n",
    "                # if fileName.startswith('inf_mensal_fidc_tab_I_'):\n",
    "                    list_tab_I.append(fileName)\n",
    "                    check_dir_tab_exists()\n",
    "                    for file_tab_I in list_tab_I:\n",
    "                        zipObject.extract(file_tab_I, './../extract/tab_I')"
   ]
  },
  {
   "cell_type": "code",
   "execution_count": 457,
   "metadata": {},
   "outputs": [],
   "source": [
    "\n",
    "def extract_all_zipFiles():\n",
    "    os.chdir('./../raw')\n",
    "    for zipFile in list_zipFiles:\n",
    "        with ZipFile(str('/' + zipFile), 'r') as zObject:\n",
    "           # Extracting specific file in the zip\n",
    "            # into a specific location.\n",
    "            zObject.extract(zipFile, path='./extract/tab_I')\n",
    "        zObject.close()"
   ]
  },
  {
   "cell_type": "code",
   "execution_count": 458,
   "metadata": {},
   "outputs": [
    {
     "ename": "FileNotFoundError",
     "evalue": "[Errno 2] No such file or directory: '/inf_mensal_fidc_201901.zip'",
     "output_type": "error",
     "traceback": [
      "\u001b[1;31m---------------------------------------------------------------------------\u001b[0m",
      "\u001b[1;31mFileNotFoundError\u001b[0m                         Traceback (most recent call last)",
      "\u001b[1;32mc:\\Users\\andre\\OneDrive\\Documentos\\Private\\Salerno\\Profissional\\1) AS PARTNERS\\Data Fintech Solutions\\fidcs\\python_exercises\\exercises.ipynb Cell 51\u001b[0m in \u001b[0;36m<cell line: 1>\u001b[1;34m()\u001b[0m\n\u001b[1;32m----> <a href='vscode-notebook-cell:/c%3A/Users/andre/OneDrive/Documentos/Private/Salerno/Profissional/1%29%20AS%20PARTNERS/Data%20Fintech%20Solutions/fidcs/python_exercises/exercises.ipynb#Y120sZmlsZQ%3D%3D?line=0'>1</a>\u001b[0m extract_all_zipFiles()\n",
      "\u001b[1;32mc:\\Users\\andre\\OneDrive\\Documentos\\Private\\Salerno\\Profissional\\1) AS PARTNERS\\Data Fintech Solutions\\fidcs\\python_exercises\\exercises.ipynb Cell 51\u001b[0m in \u001b[0;36mextract_all_zipFiles\u001b[1;34m()\u001b[0m\n\u001b[0;32m      <a href='vscode-notebook-cell:/c%3A/Users/andre/OneDrive/Documentos/Private/Salerno/Profissional/1%29%20AS%20PARTNERS/Data%20Fintech%20Solutions/fidcs/python_exercises/exercises.ipynb#Y120sZmlsZQ%3D%3D?line=1'>2</a>\u001b[0m os\u001b[39m.\u001b[39mchdir(\u001b[39m'\u001b[39m\u001b[39m./../raw\u001b[39m\u001b[39m'\u001b[39m)\n\u001b[0;32m      <a href='vscode-notebook-cell:/c%3A/Users/andre/OneDrive/Documentos/Private/Salerno/Profissional/1%29%20AS%20PARTNERS/Data%20Fintech%20Solutions/fidcs/python_exercises/exercises.ipynb#Y120sZmlsZQ%3D%3D?line=2'>3</a>\u001b[0m \u001b[39mfor\u001b[39;00m zipFile \u001b[39min\u001b[39;00m list_zipFiles:\n\u001b[1;32m----> <a href='vscode-notebook-cell:/c%3A/Users/andre/OneDrive/Documentos/Private/Salerno/Profissional/1%29%20AS%20PARTNERS/Data%20Fintech%20Solutions/fidcs/python_exercises/exercises.ipynb#Y120sZmlsZQ%3D%3D?line=3'>4</a>\u001b[0m     \u001b[39mwith\u001b[39;00m ZipFile(\u001b[39mstr\u001b[39;49m(\u001b[39m'\u001b[39;49m\u001b[39m/\u001b[39;49m\u001b[39m'\u001b[39;49m \u001b[39m+\u001b[39;49m zipFile), \u001b[39m'\u001b[39;49m\u001b[39mr\u001b[39;49m\u001b[39m'\u001b[39;49m) \u001b[39mas\u001b[39;00m zObject:\n\u001b[0;32m      <a href='vscode-notebook-cell:/c%3A/Users/andre/OneDrive/Documentos/Private/Salerno/Profissional/1%29%20AS%20PARTNERS/Data%20Fintech%20Solutions/fidcs/python_exercises/exercises.ipynb#Y120sZmlsZQ%3D%3D?line=4'>5</a>\u001b[0m        \u001b[39m# Extracting specific file in the zip\u001b[39;00m\n\u001b[0;32m      <a href='vscode-notebook-cell:/c%3A/Users/andre/OneDrive/Documentos/Private/Salerno/Profissional/1%29%20AS%20PARTNERS/Data%20Fintech%20Solutions/fidcs/python_exercises/exercises.ipynb#Y120sZmlsZQ%3D%3D?line=5'>6</a>\u001b[0m         \u001b[39m# into a specific location.\u001b[39;00m\n\u001b[0;32m      <a href='vscode-notebook-cell:/c%3A/Users/andre/OneDrive/Documentos/Private/Salerno/Profissional/1%29%20AS%20PARTNERS/Data%20Fintech%20Solutions/fidcs/python_exercises/exercises.ipynb#Y120sZmlsZQ%3D%3D?line=6'>7</a>\u001b[0m         zObject\u001b[39m.\u001b[39mextract(zipFile, path\u001b[39m=\u001b[39m\u001b[39m'\u001b[39m\u001b[39m./extract/tab_I\u001b[39m\u001b[39m'\u001b[39m)\n\u001b[0;32m      <a href='vscode-notebook-cell:/c%3A/Users/andre/OneDrive/Documentos/Private/Salerno/Profissional/1%29%20AS%20PARTNERS/Data%20Fintech%20Solutions/fidcs/python_exercises/exercises.ipynb#Y120sZmlsZQ%3D%3D?line=7'>8</a>\u001b[0m     zObject\u001b[39m.\u001b[39mclose()\n",
      "File \u001b[1;32mc:\\ProgramData\\Anaconda3\\lib\\zipfile.py:1248\u001b[0m, in \u001b[0;36mZipFile.__init__\u001b[1;34m(self, file, mode, compression, allowZip64, compresslevel, strict_timestamps)\u001b[0m\n\u001b[0;32m   1246\u001b[0m \u001b[39mwhile\u001b[39;00m \u001b[39mTrue\u001b[39;00m:\n\u001b[0;32m   1247\u001b[0m     \u001b[39mtry\u001b[39;00m:\n\u001b[1;32m-> 1248\u001b[0m         \u001b[39mself\u001b[39m\u001b[39m.\u001b[39mfp \u001b[39m=\u001b[39m io\u001b[39m.\u001b[39;49mopen(file, filemode)\n\u001b[0;32m   1249\u001b[0m     \u001b[39mexcept\u001b[39;00m \u001b[39mOSError\u001b[39;00m:\n\u001b[0;32m   1250\u001b[0m         \u001b[39mif\u001b[39;00m filemode \u001b[39min\u001b[39;00m modeDict:\n",
      "\u001b[1;31mFileNotFoundError\u001b[0m: [Errno 2] No such file or directory: '/inf_mensal_fidc_201901.zip'"
     ]
    }
   ],
   "source": [
    "extract_all_zipFiles()"
   ]
  },
  {
   "cell_type": "code",
   "execution_count": 416,
   "metadata": {},
   "outputs": [],
   "source": [
    "# Extract specific file\n",
    "from zipfile import ZipFile\n",
    "\n",
    "def extract_specific_file(i):\n",
    "    with ZipFile(i, 'r') as zipObject:\n",
    "        for fileName in zipObject.namelist():\n",
    "            print(fileName)\n",
    "            # if fileName.startswith('inf_mensal_fidc_tab_I_'):\n",
    "            #     # Extract a single file from zip\n",
    "            #     zipObject.extract(fileName, './../extract/tab_I')\n",
    "            #     zipObject.close()\n",
    "            # print('All the zipfiles {0}'.format(len(list_tab_I)), 'are extracted')"
   ]
  },
  {
   "cell_type": "code",
   "execution_count": 411,
   "metadata": {},
   "outputs": [
    {
     "data": {
      "text/plain": [
       "<ZipInfo filename='./inf_mensal_fidc_201903.zip' file_size=0>"
      ]
     },
     "execution_count": 411,
     "metadata": {},
     "output_type": "execute_result"
    }
   ],
   "source": [
    "zipfile.ZipInfo(\"./inf_mensal_fidc_201903.zip\")\n"
   ]
  },
  {
   "cell_type": "code",
   "execution_count": 368,
   "metadata": {},
   "outputs": [
    {
     "name": "stdout",
     "output_type": "stream",
     "text": [
      "inf_mensal_fidc_201901.zip\n"
     ]
    },
    {
     "data": {
      "text/plain": [
       "str"
      ]
     },
     "execution_count": 368,
     "metadata": {},
     "output_type": "execute_result"
    }
   ],
   "source": [
    "list_dir = os.listdir('./')\n",
    "print(list_dir[0])\n",
    "type(list_dir[0])"
   ]
  },
  {
   "cell_type": "code",
   "execution_count": 422,
   "metadata": {},
   "outputs": [
    {
     "name": "stdout",
     "output_type": "stream",
     "text": [
      "inf_mensal_fidc_tab_III_201901.csv\n",
      "inf_mensal_fidc_tab_II_201901.csv\n",
      "inf_mensal_fidc_tab_IV_201901.csv\n",
      "inf_mensal_fidc_tab_IX_201901.csv\n",
      "inf_mensal_fidc_tab_I_201901.csv\n",
      "inf_mensal_fidc_tab_VII_201901.csv\n",
      "inf_mensal_fidc_tab_VI_201901.csv\n",
      "inf_mensal_fidc_tab_V_201901.csv\n",
      "inf_mensal_fidc_tab_X_1_201901.csv\n",
      "inf_mensal_fidc_tab_X_2_201901.csv\n",
      "inf_mensal_fidc_tab_X_3_201901.csv\n",
      "inf_mensal_fidc_tab_X_4_201901.csv\n",
      "inf_mensal_fidc_tab_X_5_201901.csv\n",
      "inf_mensal_fidc_tab_X_6_201901.csv\n"
     ]
    }
   ],
   "source": [
    "extract_specific_file('./inf_mensal_fidc_201904.zip')"
   ]
  },
  {
   "cell_type": "code",
   "execution_count": 348,
   "metadata": {},
   "outputs": [
    {
     "ename": "IndentationError",
     "evalue": "unexpected indent (1462367795.py, line 5)",
     "output_type": "error",
     "traceback": [
      "\u001b[1;36m  Input \u001b[1;32mIn [348]\u001b[1;36m\u001b[0m\n\u001b[1;33m    for file in listOfFileNames:\u001b[0m\n\u001b[1;37m    ^\u001b[0m\n\u001b[1;31mIndentationError\u001b[0m\u001b[1;31m:\u001b[0m unexpected indent\n"
     ]
    }
   ],
   "source": [
    "list_tab_I = []\n",
    "\n",
    "with ZipFile('./inf_mensal_fidc_201902.zip', 'r') as zipObject:\n",
    "        listOfFileNames = zipObject.namelist()\n",
    "        \n",
    "        # for fileName in listOfFileNames:\n",
    "        #         if fileName.startswith('inf_mensal_fidc_tab_I_'):\n",
    "        #                 print(fileName)\n",
    "        # zipObject.close()"
   ]
  },
  {
   "cell_type": "code",
   "execution_count": 347,
   "metadata": {},
   "outputs": [
    {
     "data": {
      "text/plain": [
       "[]"
      ]
     },
     "execution_count": 347,
     "metadata": {},
     "output_type": "execute_result"
    }
   ],
   "source": [
    "zipObject.namelist()"
   ]
  },
  {
   "cell_type": "code",
   "execution_count": null,
   "metadata": {},
   "outputs": [],
   "source": []
  }
 ],
 "metadata": {
  "kernelspec": {
   "display_name": "base",
   "language": "python",
   "name": "python3"
  },
  "language_info": {
   "codemirror_mode": {
    "name": "ipython",
    "version": 3
   },
   "file_extension": ".py",
   "mimetype": "text/x-python",
   "name": "python",
   "nbconvert_exporter": "python",
   "pygments_lexer": "ipython3",
   "version": "3.9.12"
  },
  "orig_nbformat": 4,
  "vscode": {
   "interpreter": {
    "hash": "ad2bdc8ecc057115af97d19610ffacc2b4e99fae6737bb82f5d7fb13d2f2c186"
   }
  }
 },
 "nbformat": 4,
 "nbformat_minor": 2
}
