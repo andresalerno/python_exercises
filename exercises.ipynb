{
 "cells": [
  {
   "cell_type": "code",
   "execution_count": 12,
   "metadata": {},
   "outputs": [],
   "source": [
    "list = [1, 2, 3, 4, 5, 6]"
   ]
  },
  {
   "cell_type": "code",
   "execution_count": 13,
   "metadata": {},
   "outputs": [
    {
     "name": "stdout",
     "output_type": "stream",
     "text": [
      "[1, 2, 3, 4, 5, 6]\n"
     ]
    }
   ],
   "source": [
    "print(list)"
   ]
  },
  {
   "cell_type": "code",
   "execution_count": 14,
   "metadata": {},
   "outputs": [
    {
     "name": "stdout",
     "output_type": "stream",
     "text": [
      "1\n",
      "2\n",
      "3\n",
      "4\n",
      "5\n",
      "6\n"
     ]
    }
   ],
   "source": [
    "for i in list:\n",
    "    print(i)"
   ]
  },
  {
   "cell_type": "code",
   "execution_count": 15,
   "metadata": {},
   "outputs": [
    {
     "name": "stdout",
     "output_type": "stream",
     "text": [
      "Not exists\n"
     ]
    }
   ],
   "source": [
    "i = 7\n",
    "\n",
    "if i in list:\n",
    "    print('Exists')\n",
    "else:\n",
    "    print('Not exists')"
   ]
  },
  {
   "cell_type": "code",
   "execution_count": 16,
   "metadata": {},
   "outputs": [
    {
     "name": "stdout",
     "output_type": "stream",
     "text": [
      "Exists\n"
     ]
    }
   ],
   "source": [
    "for i in list:\n",
    "    if(i == 6):\n",
    "        print('Exists')"
   ]
  },
  {
   "cell_type": "code",
   "execution_count": 17,
   "metadata": {},
   "outputs": [],
   "source": [
    "if (7 in list):\n",
    "    print('Exists')"
   ]
  },
  {
   "cell_type": "code",
   "execution_count": 18,
   "metadata": {},
   "outputs": [
    {
     "name": "stdout",
     "output_type": "stream",
     "text": [
      "Does string contain any list element : True\n"
     ]
    }
   ],
   "source": [
    "result = any(6 in list for i in list)\n",
    "print('Does string contain any list element : ' +str(bool(result)))"
   ]
  },
  {
   "attachments": {},
   "cell_type": "markdown",
   "metadata": {},
   "source": [
    "### os.Path"
   ]
  },
  {
   "cell_type": "code",
   "execution_count": 19,
   "metadata": {},
   "outputs": [],
   "source": [
    "import os"
   ]
  },
  {
   "cell_type": "code",
   "execution_count": 13,
   "metadata": {},
   "outputs": [],
   "source": [
    "cwd = os.getcwd()"
   ]
  },
  {
   "cell_type": "code",
   "execution_count": 21,
   "metadata": {},
   "outputs": [],
   "source": [
    "if not os.path.exists(os.path.join(cwd, 'test')):\n",
    "    os.makedirs(os.path.join(cwd, 'test'))"
   ]
  },
  {
   "cell_type": "code",
   "execution_count": 22,
   "metadata": {},
   "outputs": [],
   "source": [
    "if not os.path.isdir(os.path.join(cwd, 'test')):\n",
    "    os.makedirs(os.path.join(cwd, 'test'))"
   ]
  },
  {
   "cell_type": "code",
   "execution_count": 23,
   "metadata": {},
   "outputs": [
    {
     "data": {
      "text/plain": [
       "'c:\\\\Users\\\\andre\\\\OneDrive\\\\Documentos\\\\Private\\\\Salerno\\\\Profissional\\\\1) AS PARTNERS\\\\Data Fintech Solutions\\\\fidcs\\\\python_exercises'"
      ]
     },
     "execution_count": 23,
     "metadata": {},
     "output_type": "execute_result"
    }
   ],
   "source": [
    "os.path.abspath(cwd)"
   ]
  },
  {
   "cell_type": "code",
   "execution_count": 24,
   "metadata": {},
   "outputs": [
    {
     "data": {
      "text/plain": [
       "'python_exercises'"
      ]
     },
     "execution_count": 24,
     "metadata": {},
     "output_type": "execute_result"
    }
   ],
   "source": [
    "os.path.basename(cwd)"
   ]
  },
  {
   "cell_type": "code",
   "execution_count": 25,
   "metadata": {},
   "outputs": [
    {
     "data": {
      "text/plain": [
       "'c:\\\\Users\\\\andre\\\\OneDrive\\\\Documentos\\\\Private\\\\Salerno\\\\Profissional\\\\1) AS PARTNERS\\\\Data Fintech Solutions\\\\fidcs'"
      ]
     },
     "execution_count": 25,
     "metadata": {},
     "output_type": "execute_result"
    }
   ],
   "source": [
    "os.path.dirname(cwd)"
   ]
  },
  {
   "cell_type": "code",
   "execution_count": 26,
   "metadata": {},
   "outputs": [
    {
     "data": {
      "text/plain": [
       "1673278709.4137895"
      ]
     },
     "execution_count": 26,
     "metadata": {},
     "output_type": "execute_result"
    }
   ],
   "source": [
    "os.path.getatime(cwd)"
   ]
  },
  {
   "cell_type": "code",
   "execution_count": 27,
   "metadata": {},
   "outputs": [
    {
     "data": {
      "text/plain": [
       "True"
      ]
     },
     "execution_count": 27,
     "metadata": {},
     "output_type": "execute_result"
    }
   ],
   "source": [
    "os.path.isfile('exercises.ipynb')"
   ]
  },
  {
   "cell_type": "code",
   "execution_count": 28,
   "metadata": {},
   "outputs": [
    {
     "data": {
      "text/plain": [
       "('c:\\\\Users\\\\andre\\\\OneDrive\\\\Documentos\\\\Private\\\\Salerno\\\\Profissional\\\\1) AS PARTNERS\\\\Data Fintech Solutions\\\\fidcs',\n",
       " 'python_exercises')"
      ]
     },
     "execution_count": 28,
     "metadata": {},
     "output_type": "execute_result"
    }
   ],
   "source": [
    "os.path.split(cwd)"
   ]
  },
  {
   "cell_type": "code",
   "execution_count": 29,
   "metadata": {},
   "outputs": [
    {
     "data": {
      "text/plain": [
       "('c:',\n",
       " '\\\\Users\\\\andre\\\\OneDrive\\\\Documentos\\\\Private\\\\Salerno\\\\Profissional\\\\1) AS PARTNERS\\\\Data Fintech Solutions\\\\fidcs\\\\python_exercises')"
      ]
     },
     "execution_count": 29,
     "metadata": {},
     "output_type": "execute_result"
    }
   ],
   "source": [
    "os.path.splitdrive(cwd)"
   ]
  },
  {
   "attachments": {},
   "cell_type": "markdown",
   "metadata": {},
   "source": [
    "### Web Scraping"
   ]
  },
  {
   "attachments": {},
   "cell_type": "markdown",
   "metadata": {},
   "source": [
    "### 1. Importing libraries"
   ]
  },
  {
   "cell_type": "code",
   "execution_count": 26,
   "metadata": {},
   "outputs": [],
   "source": [
    "import requests\n",
    "from bs4 import BeautifulSoup"
   ]
  },
  {
   "attachments": {},
   "cell_type": "markdown",
   "metadata": {},
   "source": [
    "### 2. Defining a directory"
   ]
  },
  {
   "cell_type": "code",
   "execution_count": 17,
   "metadata": {},
   "outputs": [
    {
     "name": "stdout",
     "output_type": "stream",
     "text": [
      "c:\\Users\\andre\\OneDrive\\Documentos\\Private\\Salerno\\Profissional\\1) AS PARTNERS\\Data Fintech Solutions\\fidcs\\python_exercises\n"
     ]
    }
   ],
   "source": [
    "base_path = os.getcwd()\n",
    "raw_path = os.path.join(base_path, 'raw')"
   ]
  },
  {
   "attachments": {},
   "cell_type": "markdown",
   "metadata": {},
   "source": [
    "### 3. If directory not exists..."
   ]
  },
  {
   "cell_type": "code",
   "execution_count": 19,
   "metadata": {},
   "outputs": [],
   "source": [
    "def check_dir_exists(name_dir):\n",
    "    if not os.path.isdir(os.path.join(base_path, name_dir)):\n",
    "        os.makedirs(os.path.join(base_path, name_dir))\n",
    "        return('Directory has just created!')"
   ]
  },
  {
   "attachments": {},
   "cell_type": "markdown",
   "metadata": {},
   "source": [
    "### 4. Fetching URL's"
   ]
  },
  {
   "cell_type": "code",
   "execution_count": 55,
   "metadata": {},
   "outputs": [],
   "source": [
    "url = 'https://dados.cvm.gov.br/dados/FIDC/DOC/INF_MENSAL/DADOS/'\n",
    "\n",
    "urls = []\n",
    "\n",
    "def fetching_urls():\n",
    "    reqs = requests.get(url) # response 200\n",
    "    soup = BeautifulSoup(reqs.text, 'html.parser')\n",
    " \n",
    "    for link in soup.find_all('a'):\n",
    "        if link.get('href').startswith('inf_mensal_fidc_'):\n",
    "            if link not in urls:\n",
    "                urls.append(os.path.join(url, str(link.get('href'))))"
   ]
  },
  {
   "cell_type": "code",
   "execution_count": 56,
   "metadata": {},
   "outputs": [],
   "source": [
    "fetching_urls()"
   ]
  },
  {
   "cell_type": "code",
   "execution_count": 57,
   "metadata": {},
   "outputs": [
    {
     "name": "stdout",
     "output_type": "stream",
     "text": [
      "['https://dados.cvm.gov.br/dados/FIDC/DOC/INF_MENSAL/DADOS/inf_mensal_fidc_201901.zip', 'https://dados.cvm.gov.br/dados/FIDC/DOC/INF_MENSAL/DADOS/inf_mensal_fidc_201902.zip', 'https://dados.cvm.gov.br/dados/FIDC/DOC/INF_MENSAL/DADOS/inf_mensal_fidc_201903.zip', 'https://dados.cvm.gov.br/dados/FIDC/DOC/INF_MENSAL/DADOS/inf_mensal_fidc_201904.zip', 'https://dados.cvm.gov.br/dados/FIDC/DOC/INF_MENSAL/DADOS/inf_mensal_fidc_201905.zip', 'https://dados.cvm.gov.br/dados/FIDC/DOC/INF_MENSAL/DADOS/inf_mensal_fidc_201906.zip', 'https://dados.cvm.gov.br/dados/FIDC/DOC/INF_MENSAL/DADOS/inf_mensal_fidc_201907.zip', 'https://dados.cvm.gov.br/dados/FIDC/DOC/INF_MENSAL/DADOS/inf_mensal_fidc_201908.zip', 'https://dados.cvm.gov.br/dados/FIDC/DOC/INF_MENSAL/DADOS/inf_mensal_fidc_201909.zip', 'https://dados.cvm.gov.br/dados/FIDC/DOC/INF_MENSAL/DADOS/inf_mensal_fidc_201910.zip', 'https://dados.cvm.gov.br/dados/FIDC/DOC/INF_MENSAL/DADOS/inf_mensal_fidc_201911.zip', 'https://dados.cvm.gov.br/dados/FIDC/DOC/INF_MENSAL/DADOS/inf_mensal_fidc_201912.zip', 'https://dados.cvm.gov.br/dados/FIDC/DOC/INF_MENSAL/DADOS/inf_mensal_fidc_202001.zip', 'https://dados.cvm.gov.br/dados/FIDC/DOC/INF_MENSAL/DADOS/inf_mensal_fidc_202002.zip', 'https://dados.cvm.gov.br/dados/FIDC/DOC/INF_MENSAL/DADOS/inf_mensal_fidc_202003.zip', 'https://dados.cvm.gov.br/dados/FIDC/DOC/INF_MENSAL/DADOS/inf_mensal_fidc_202004.zip', 'https://dados.cvm.gov.br/dados/FIDC/DOC/INF_MENSAL/DADOS/inf_mensal_fidc_202005.zip', 'https://dados.cvm.gov.br/dados/FIDC/DOC/INF_MENSAL/DADOS/inf_mensal_fidc_202006.zip', 'https://dados.cvm.gov.br/dados/FIDC/DOC/INF_MENSAL/DADOS/inf_mensal_fidc_202007.zip', 'https://dados.cvm.gov.br/dados/FIDC/DOC/INF_MENSAL/DADOS/inf_mensal_fidc_202008.zip', 'https://dados.cvm.gov.br/dados/FIDC/DOC/INF_MENSAL/DADOS/inf_mensal_fidc_202009.zip', 'https://dados.cvm.gov.br/dados/FIDC/DOC/INF_MENSAL/DADOS/inf_mensal_fidc_202010.zip', 'https://dados.cvm.gov.br/dados/FIDC/DOC/INF_MENSAL/DADOS/inf_mensal_fidc_202011.zip', 'https://dados.cvm.gov.br/dados/FIDC/DOC/INF_MENSAL/DADOS/inf_mensal_fidc_202012.zip', 'https://dados.cvm.gov.br/dados/FIDC/DOC/INF_MENSAL/DADOS/inf_mensal_fidc_202101.zip', 'https://dados.cvm.gov.br/dados/FIDC/DOC/INF_MENSAL/DADOS/inf_mensal_fidc_202102.zip', 'https://dados.cvm.gov.br/dados/FIDC/DOC/INF_MENSAL/DADOS/inf_mensal_fidc_202103.zip', 'https://dados.cvm.gov.br/dados/FIDC/DOC/INF_MENSAL/DADOS/inf_mensal_fidc_202104.zip', 'https://dados.cvm.gov.br/dados/FIDC/DOC/INF_MENSAL/DADOS/inf_mensal_fidc_202105.zip', 'https://dados.cvm.gov.br/dados/FIDC/DOC/INF_MENSAL/DADOS/inf_mensal_fidc_202106.zip', 'https://dados.cvm.gov.br/dados/FIDC/DOC/INF_MENSAL/DADOS/inf_mensal_fidc_202107.zip', 'https://dados.cvm.gov.br/dados/FIDC/DOC/INF_MENSAL/DADOS/inf_mensal_fidc_202108.zip', 'https://dados.cvm.gov.br/dados/FIDC/DOC/INF_MENSAL/DADOS/inf_mensal_fidc_202109.zip', 'https://dados.cvm.gov.br/dados/FIDC/DOC/INF_MENSAL/DADOS/inf_mensal_fidc_202110.zip', 'https://dados.cvm.gov.br/dados/FIDC/DOC/INF_MENSAL/DADOS/inf_mensal_fidc_202111.zip', 'https://dados.cvm.gov.br/dados/FIDC/DOC/INF_MENSAL/DADOS/inf_mensal_fidc_202112.zip', 'https://dados.cvm.gov.br/dados/FIDC/DOC/INF_MENSAL/DADOS/inf_mensal_fidc_202201.zip', 'https://dados.cvm.gov.br/dados/FIDC/DOC/INF_MENSAL/DADOS/inf_mensal_fidc_202202.zip', 'https://dados.cvm.gov.br/dados/FIDC/DOC/INF_MENSAL/DADOS/inf_mensal_fidc_202203.zip', 'https://dados.cvm.gov.br/dados/FIDC/DOC/INF_MENSAL/DADOS/inf_mensal_fidc_202204.zip', 'https://dados.cvm.gov.br/dados/FIDC/DOC/INF_MENSAL/DADOS/inf_mensal_fidc_202205.zip', 'https://dados.cvm.gov.br/dados/FIDC/DOC/INF_MENSAL/DADOS/inf_mensal_fidc_202206.zip', 'https://dados.cvm.gov.br/dados/FIDC/DOC/INF_MENSAL/DADOS/inf_mensal_fidc_202207.zip', 'https://dados.cvm.gov.br/dados/FIDC/DOC/INF_MENSAL/DADOS/inf_mensal_fidc_202208.zip', 'https://dados.cvm.gov.br/dados/FIDC/DOC/INF_MENSAL/DADOS/inf_mensal_fidc_202209.zip', 'https://dados.cvm.gov.br/dados/FIDC/DOC/INF_MENSAL/DADOS/inf_mensal_fidc_202210.zip', 'https://dados.cvm.gov.br/dados/FIDC/DOC/INF_MENSAL/DADOS/inf_mensal_fidc_202211.zip', 'https://dados.cvm.gov.br/dados/FIDC/DOC/INF_MENSAL/DADOS/inf_mensal_fidc_202212.zip']\n"
     ]
    }
   ],
   "source": [
    "print(urls)"
   ]
  },
  {
   "attachments": {},
   "cell_type": "markdown",
   "metadata": {},
   "source": [
    "### 5. Download files"
   ]
  },
  {
   "cell_type": "code",
   "execution_count": 58,
   "metadata": {},
   "outputs": [
    {
     "name": "stderr",
     "output_type": "stream",
     "text": [
      "C:\\Users\\andre\\AppData\\Local\\Temp\\ipykernel_39996\\1058838831.py:10: DeprecationWarning: use options instead of chrome_options\n",
      "  driver = webdriver.Chrome(chrome_options=options)\n"
     ]
    }
   ],
   "source": [
    "import time\n",
    "from selenium import webdriver\n",
    "from selenium.webdriver.chrome.options import Options\n",
    "\n",
    "url = 'https://dados.cvm.gov.br/dados/FIDC/DOC/INF_MENSAL/DADOS/'\n",
    "\n",
    "options = webdriver.ChromeOptions() \n",
    "options.add_argument(\"download.default_directory=/raw\")\n",
    "options.page_load_strategy = 'normal'\n",
    "driver = webdriver.Chrome(chrome_options=options)\n",
    "\n",
    "\n",
    "driver.get(url)\n",
    "driver.quit()"
   ]
  },
  {
   "cell_type": "code",
   "execution_count": 62,
   "metadata": {},
   "outputs": [],
   "source": [
    "name_files = []\n",
    "\n",
    "def extract_name_files():\n",
    "    reqs = requests.get(url)\n",
    "    soup = BeautifulSoup(reqs.text, 'html.parser')\n",
    " \n",
    "    for link in soup.find_all('a'):\n",
    "        if link.get('href').startswith('inf_mensal_'):\n",
    "            if link not in name_files:\n",
    "                name_files.append(str(link.get('href')))"
   ]
  },
  {
   "cell_type": "code",
   "execution_count": 63,
   "metadata": {},
   "outputs": [],
   "source": [
    "extract_name_files()"
   ]
  },
  {
   "cell_type": "code",
   "execution_count": 64,
   "metadata": {},
   "outputs": [
    {
     "name": "stdout",
     "output_type": "stream",
     "text": [
      "['inf_mensal_fidc_201901.zip', 'inf_mensal_fidc_201902.zip', 'inf_mensal_fidc_201903.zip', 'inf_mensal_fidc_201904.zip', 'inf_mensal_fidc_201905.zip', 'inf_mensal_fidc_201906.zip', 'inf_mensal_fidc_201907.zip', 'inf_mensal_fidc_201908.zip', 'inf_mensal_fidc_201909.zip', 'inf_mensal_fidc_201910.zip', 'inf_mensal_fidc_201911.zip', 'inf_mensal_fidc_201912.zip', 'inf_mensal_fidc_202001.zip', 'inf_mensal_fidc_202002.zip', 'inf_mensal_fidc_202003.zip', 'inf_mensal_fidc_202004.zip', 'inf_mensal_fidc_202005.zip', 'inf_mensal_fidc_202006.zip', 'inf_mensal_fidc_202007.zip', 'inf_mensal_fidc_202008.zip', 'inf_mensal_fidc_202009.zip', 'inf_mensal_fidc_202010.zip', 'inf_mensal_fidc_202011.zip', 'inf_mensal_fidc_202012.zip', 'inf_mensal_fidc_202101.zip', 'inf_mensal_fidc_202102.zip', 'inf_mensal_fidc_202103.zip', 'inf_mensal_fidc_202104.zip', 'inf_mensal_fidc_202105.zip', 'inf_mensal_fidc_202106.zip', 'inf_mensal_fidc_202107.zip', 'inf_mensal_fidc_202108.zip', 'inf_mensal_fidc_202109.zip', 'inf_mensal_fidc_202110.zip', 'inf_mensal_fidc_202111.zip', 'inf_mensal_fidc_202112.zip', 'inf_mensal_fidc_202201.zip', 'inf_mensal_fidc_202202.zip', 'inf_mensal_fidc_202203.zip', 'inf_mensal_fidc_202204.zip', 'inf_mensal_fidc_202205.zip', 'inf_mensal_fidc_202206.zip', 'inf_mensal_fidc_202207.zip', 'inf_mensal_fidc_202208.zip', 'inf_mensal_fidc_202209.zip', 'inf_mensal_fidc_202210.zip', 'inf_mensal_fidc_202211.zip', 'inf_mensal_fidc_202212.zip']\n"
     ]
    }
   ],
   "source": [
    "print(name_files)"
   ]
  },
  {
   "cell_type": "code",
   "execution_count": 67,
   "metadata": {},
   "outputs": [],
   "source": [
    "from urllib import request\n",
    "\n",
    "def download_files():\n",
    "    for file in name_files:\n",
    "        # checking if the file exists\n",
    "        if not os.path.exists(os.path.join(base_path, 'raw\\\\', file)):\n",
    "            # Download remote and save locally\n",
    "            for url in urls:\n",
    "                for name in name_files:\n",
    "                    request.urlretrieve(url, 'raw/{}'.format(name))"
   ]
  },
  {
   "attachments": {},
   "cell_type": "markdown",
   "metadata": {},
   "source": [
    "#### 6. Checking number of characters e/or similarities"
   ]
  },
  {
   "cell_type": "code",
   "execution_count": 70,
   "metadata": {},
   "outputs": [],
   "source": [
    "# file names with the same patter, I mean, 26 characters\n",
    "\n",
    "import numpy as np\n",
    "\n",
    "def number_charact_file_name(i):\n",
    "    array_nr_charac = np.array([len(i) for i in urls])\n",
    "    print(array_nr_charac)\n",
    "    print(len(array_nr_charac))"
   ]
  },
  {
   "cell_type": "code",
   "execution_count": 72,
   "metadata": {},
   "outputs": [
    {
     "name": "stdout",
     "output_type": "stream",
     "text": [
      "[83 83 83 83 83 83 83 83 83 83 83 83 83 83 83 83 83 83 83 83 83 83 83 83\n",
      " 83 83 83 83 83 83 83 83 83 83 83 83 83 83 83 83 83 83 83 83 83 83 83 83]\n",
      "48\n"
     ]
    }
   ],
   "source": [
    "number_charact_file_name(os.listdir(os.path.join(base_path, 'raw')))"
   ]
  },
  {
   "attachments": {},
   "cell_type": "markdown",
   "metadata": {},
   "source": [
    "### 7. Extract specific file"
   ]
  },
  {
   "cell_type": "code",
   "execution_count": 90,
   "metadata": {},
   "outputs": [],
   "source": [
    "list_tab_I = []\n",
    "\n",
    "def extract_all_zipFiles(fileZipe):\n",
    "    for fileZipe in list_zipFiles:\n",
    "        with ZipFile(fileZipe, 'r') as zipObject:\n",
    "            for fileName in zipObject.namelist():\n",
    "                if fileName.startswith('inf_mensal_fidc_tab_I_'):\n",
    "                    list_tab_I.append(fileName)\n",
    "                    for file_tab_I in list_tab_I:\n",
    "                        zipObject.extract(file_tab_I, './extract/tab_I')"
   ]
  },
  {
   "cell_type": "code",
   "execution_count": 94,
   "metadata": {},
   "outputs": [],
   "source": [
    "import zipfile"
   ]
  },
  {
   "cell_type": "code",
   "execution_count": 114,
   "metadata": {},
   "outputs": [
    {
     "ename": "TypeError",
     "evalue": "'str' object is not callable",
     "output_type": "error",
     "traceback": [
      "\u001b[1;31m---------------------------------------------------------------------------\u001b[0m",
      "\u001b[1;31mTypeError\u001b[0m                                 Traceback (most recent call last)",
      "\u001b[1;32mc:\\Users\\andre\\OneDrive\\Documentos\\Private\\Salerno\\Profissional\\1) AS PARTNERS\\Data Fintech Solutions\\fidcs\\python_exercises\\exercises.ipynb Cell 44\u001b[0m in \u001b[0;36m<cell line: 5>\u001b[1;34m()\u001b[0m\n\u001b[0;32m      <a href='vscode-notebook-cell:/c%3A/Users/andre/OneDrive/Documentos/Private/Salerno/Profissional/1%29%20AS%20PARTNERS/Data%20Fintech%20Solutions/fidcs/python_exercises/exercises.ipynb#Y145sZmlsZQ%3D%3D?line=0'>1</a>\u001b[0m os\u001b[39m.\u001b[39mgetcwd()\n\u001b[1;32m----> <a href='vscode-notebook-cell:/c%3A/Users/andre/OneDrive/Documentos/Private/Salerno/Profissional/1%29%20AS%20PARTNERS/Data%20Fintech%20Solutions/fidcs/python_exercises/exercises.ipynb#Y145sZmlsZQ%3D%3D?line=4'>5</a>\u001b[0m \u001b[39mwith\u001b[39;00m zipFile(\u001b[39m\"\u001b[39;49m\u001b[39m\\\\\u001b[39;49;00m\u001b[39minf_mensal_fidc_201901.zip\u001b[39;49m\u001b[39m\"\u001b[39;49m, \u001b[39m\"\u001b[39;49m\u001b[39mr\u001b[39;49m\u001b[39m\"\u001b[39;49m) \u001b[39mas\u001b[39;00m zipObject:\n\u001b[0;32m      <a href='vscode-notebook-cell:/c%3A/Users/andre/OneDrive/Documentos/Private/Salerno/Profissional/1%29%20AS%20PARTNERS/Data%20Fintech%20Solutions/fidcs/python_exercises/exercises.ipynb#Y145sZmlsZQ%3D%3D?line=5'>6</a>\u001b[0m     listOfFileNames \u001b[39m=\u001b[39m zipObject\u001b[39m.\u001b[39mnamelist()\n\u001b[0;32m      <a href='vscode-notebook-cell:/c%3A/Users/andre/OneDrive/Documentos/Private/Salerno/Profissional/1%29%20AS%20PARTNERS/Data%20Fintech%20Solutions/fidcs/python_exercises/exercises.ipynb#Y145sZmlsZQ%3D%3D?line=6'>7</a>\u001b[0m     \u001b[39mfor\u001b[39;00m file \u001b[39min\u001b[39;00m listOfFileNames:\n",
      "\u001b[1;31mTypeError\u001b[0m: 'str' object is not callable"
     ]
    }
   ],
   "source": [
    "os.getcwd()\n",
    "\n",
    "\n",
    "\n",
    "with zipFile(\"\\\\inf_mensal_fidc_201901.zip\", \"r\") as zipObject:\n",
    "    listOfFileNames = zipObject.namelist()\n",
    "    for file in listOfFileNames:\n",
    "        print(file)\n",
    "        # if fileName.startswith('inf_mensal_fidc_tab_I_'):\n",
    "        #     list_tab_I.append(fileName)\n",
    "        #     for file_tab_I in list_tab_I:\n",
    "        #         zipObject.extract(file_tab_I, './extract/tab_I')\n",
    "    "
   ]
  },
  {
   "cell_type": "code",
   "execution_count": 104,
   "metadata": {},
   "outputs": [
    {
     "data": {
      "text/plain": [
       "'inf_mensal_fidc_201901.zip'"
      ]
     },
     "execution_count": 104,
     "metadata": {},
     "output_type": "execute_result"
    }
   ],
   "source": [
    "list_zipFiles[0]"
   ]
  },
  {
   "cell_type": "code",
   "execution_count": 141,
   "metadata": {},
   "outputs": [],
   "source": [
    "import zipfile\n",
    "from zipfile import ZipFile\n",
    "\n",
    "listOfFileNames = []\n",
    "\n",
    "def list_name_files_zipFiles(i):\n",
    "    with ZipFile(i, 'r') as zipObject:\n",
    "        zipObject.printdir()\n",
    "        # for info in zipObject.infolist():\n",
    "            # print(f\"Filename: {info.filename}\")\n",
    "            # print(f\"Filename: {zipObject.filename}\")\n",
    "    #     print(listOfFileNames)\n",
    "    # zipObject.close()"
   ]
  },
  {
   "cell_type": "code",
   "execution_count": 146,
   "metadata": {},
   "outputs": [
    {
     "name": "stdout",
     "output_type": "stream",
     "text": [
      "File Name                                             Modified             Size\n",
      "inf_mensal_fidc_tab_III_201903.csv             2020-09-26 10:24:54       150575\n",
      "inf_mensal_fidc_tab_II_201903.csv              2020-09-26 10:24:54       265914\n",
      "inf_mensal_fidc_tab_IV_201903.csv              2020-09-26 10:24:56       116546\n",
      "inf_mensal_fidc_tab_IX_201903.csv              2020-09-26 10:25:02       436619\n",
      "inf_mensal_fidc_tab_I_201903.csv               2020-09-26 10:24:52       433613\n",
      "inf_mensal_fidc_tab_VII_201903.csv             2020-09-26 10:25:00       220706\n",
      "inf_mensal_fidc_tab_VI_201903.csv              2020-09-26 10:24:58       226817\n",
      "inf_mensal_fidc_tab_V_201903.csv               2020-09-26 10:24:56       215139\n",
      "inf_mensal_fidc_tab_X_1_201903.csv             2020-09-26 10:25:30       236581\n",
      "inf_mensal_fidc_tab_X_2_201903.csv             2020-09-26 10:25:58       397004\n",
      "inf_mensal_fidc_tab_X_3_201903.csv             2020-09-26 10:26:26       248333\n",
      "inf_mensal_fidc_tab_X_4_201903.csv             2020-09-26 10:26:56      1320485\n",
      "inf_mensal_fidc_tab_X_5_201903.csv             2020-09-26 10:27:24        90181\n",
      "inf_mensal_fidc_tab_X_6_201903.csv             2020-09-26 10:27:52       217553\n"
     ]
    }
   ],
   "source": [
    "with ZipFile('./inf_mensal_fidc_201901.zip', 'r') as zipObject:\n",
    "    zipObject.printdir()\n",
    "zipObject.close()"
   ]
  },
  {
   "cell_type": "code",
   "execution_count": 161,
   "metadata": {},
   "outputs": [],
   "source": [
    "import shutil\n",
    "\n",
    "def extract_zipFiles(file):\n",
    "    listOfFiles = []\n",
    "    extract_directory = './../extract/'\n",
    "\n",
    "    shutil.unpack_archive(file, extract_directory)"
   ]
  },
  {
   "cell_type": "code",
   "execution_count": 166,
   "metadata": {},
   "outputs": [],
   "source": [
    "for file in os.listdir('./../raw/'):\n",
    "    extract_zipFiles(file)"
   ]
  },
  {
   "cell_type": "code",
   "execution_count": null,
   "metadata": {},
   "outputs": [],
   "source": []
  },
  {
   "attachments": {},
   "cell_type": "markdown",
   "metadata": {},
   "source": [
    "### 5. Importing files from web"
   ]
  },
  {
   "cell_type": "code",
   "execution_count": 117,
   "metadata": {},
   "outputs": [
    {
     "ename": "TypeError",
     "evalue": "list_name_files_zipFiles() missing 1 required positional argument: 'i'",
     "output_type": "error",
     "traceback": [
      "\u001b[1;31m---------------------------------------------------------------------------\u001b[0m",
      "\u001b[1;31mTypeError\u001b[0m                                 Traceback (most recent call last)",
      "\u001b[1;32mc:\\Users\\andre\\OneDrive\\Documentos\\Private\\Salerno\\Profissional\\1) AS PARTNERS\\Data Fintech Solutions\\fidcs\\python_exercises\\exercises.ipynb Cell 48\u001b[0m in \u001b[0;36m<cell line: 1>\u001b[1;34m()\u001b[0m\n\u001b[1;32m----> <a href='vscode-notebook-cell:/c%3A/Users/andre/OneDrive/Documentos/Private/Salerno/Profissional/1%29%20AS%20PARTNERS/Data%20Fintech%20Solutions/fidcs/python_exercises/exercises.ipynb#X56sZmlsZQ%3D%3D?line=0'>1</a>\u001b[0m list_name_files_zipFiles()\n",
      "\u001b[1;31mTypeError\u001b[0m: list_name_files_zipFiles() missing 1 required positional argument: 'i'"
     ]
    }
   ],
   "source": [
    "list_name_files_zipFiles()"
   ]
  },
  {
   "attachments": {},
   "cell_type": "markdown",
   "metadata": {},
   "source": [
    "### 6. Extract name's files"
   ]
  },
  {
   "cell_type": "code",
   "execution_count": 115,
   "metadata": {},
   "outputs": [],
   "source": [
    "\n",
    "\n"
   ]
  },
  {
   "cell_type": "code",
   "execution_count": 116,
   "metadata": {},
   "outputs": [],
   "source": [
    "extract_name_files()"
   ]
  },
  {
   "cell_type": "code",
   "execution_count": 117,
   "metadata": {},
   "outputs": [
    {
     "name": "stdout",
     "output_type": "stream",
     "text": [
      "['inf_mensal_fidc_201901.zip', 'inf_mensal_fidc_201902.zip', 'inf_mensal_fidc_201903.zip', 'inf_mensal_fidc_201904.zip', 'inf_mensal_fidc_201905.zip', 'inf_mensal_fidc_201906.zip', 'inf_mensal_fidc_201907.zip', 'inf_mensal_fidc_201908.zip', 'inf_mensal_fidc_201909.zip', 'inf_mensal_fidc_201910.zip', 'inf_mensal_fidc_201911.zip', 'inf_mensal_fidc_201912.zip', 'inf_mensal_fidc_202001.zip', 'inf_mensal_fidc_202002.zip', 'inf_mensal_fidc_202003.zip', 'inf_mensal_fidc_202004.zip', 'inf_mensal_fidc_202005.zip', 'inf_mensal_fidc_202006.zip', 'inf_mensal_fidc_202007.zip', 'inf_mensal_fidc_202008.zip', 'inf_mensal_fidc_202009.zip', 'inf_mensal_fidc_202010.zip', 'inf_mensal_fidc_202011.zip', 'inf_mensal_fidc_202012.zip', 'inf_mensal_fidc_202101.zip', 'inf_mensal_fidc_202102.zip', 'inf_mensal_fidc_202103.zip', 'inf_mensal_fidc_202104.zip', 'inf_mensal_fidc_202105.zip', 'inf_mensal_fidc_202106.zip', 'inf_mensal_fidc_202107.zip', 'inf_mensal_fidc_202108.zip', 'inf_mensal_fidc_202109.zip', 'inf_mensal_fidc_202110.zip', 'inf_mensal_fidc_202111.zip', 'inf_mensal_fidc_202112.zip', 'inf_mensal_fidc_202201.zip', 'inf_mensal_fidc_202202.zip', 'inf_mensal_fidc_202203.zip', 'inf_mensal_fidc_202204.zip', 'inf_mensal_fidc_202205.zip', 'inf_mensal_fidc_202206.zip', 'inf_mensal_fidc_202207.zip', 'inf_mensal_fidc_202208.zip', 'inf_mensal_fidc_202209.zip', 'inf_mensal_fidc_202210.zip', 'inf_mensal_fidc_202211.zip', 'inf_mensal_fidc_202212.zip']\n"
     ]
    }
   ],
   "source": [
    "print(name_files)"
   ]
  },
  {
   "attachments": {},
   "cell_type": "markdown",
   "metadata": {},
   "source": [
    "### 7. Download files"
   ]
  },
  {
   "cell_type": "code",
   "execution_count": 194,
   "metadata": {},
   "outputs": [],
   "source": []
  },
  {
   "attachments": {},
   "cell_type": "markdown",
   "metadata": {},
   "source": [
    "### 8. List files in the directory"
   ]
  },
  {
   "cell_type": "code",
   "execution_count": 1,
   "metadata": {},
   "outputs": [
    {
     "name": "stdout",
     "output_type": "stream",
     "text": [
      "inf_mensal_fidc_201901.zip\n",
      "inf_mensal_fidc_201902.zip\n",
      "inf_mensal_fidc_201903.zip\n",
      "inf_mensal_fidc_201904.zip\n",
      "inf_mensal_fidc_201905.zip\n",
      "inf_mensal_fidc_201906.zip\n",
      "inf_mensal_fidc_201907.zip\n",
      "inf_mensal_fidc_201908.zip\n",
      "inf_mensal_fidc_201909.zip\n",
      "inf_mensal_fidc_201910.zip\n",
      "inf_mensal_fidc_201911.zip\n",
      "inf_mensal_fidc_201912.zip\n",
      "inf_mensal_fidc_202001.zip\n",
      "inf_mensal_fidc_202002.zip\n",
      "inf_mensal_fidc_202003.zip\n",
      "inf_mensal_fidc_202004.zip\n",
      "inf_mensal_fidc_202005.zip\n",
      "inf_mensal_fidc_202006.zip\n",
      "inf_mensal_fidc_202007.zip\n",
      "inf_mensal_fidc_202008.zip\n",
      "inf_mensal_fidc_202009.zip\n",
      "inf_mensal_fidc_202010.zip\n",
      "inf_mensal_fidc_202011.zip\n",
      "inf_mensal_fidc_202012.zip\n",
      "inf_mensal_fidc_202101.zip\n",
      "inf_mensal_fidc_202102.zip\n",
      "inf_mensal_fidc_202103.zip\n",
      "inf_mensal_fidc_202104.zip\n",
      "inf_mensal_fidc_202105.zip\n",
      "inf_mensal_fidc_202106.zip\n",
      "inf_mensal_fidc_202107.zip\n",
      "inf_mensal_fidc_202108.zip\n",
      "inf_mensal_fidc_202109.zip\n",
      "inf_mensal_fidc_202110.zip\n",
      "inf_mensal_fidc_202111.zip\n",
      "inf_mensal_fidc_202112.zip\n",
      "inf_mensal_fidc_202201.zip\n",
      "inf_mensal_fidc_202202.zip\n",
      "inf_mensal_fidc_202203.zip\n",
      "inf_mensal_fidc_202204.zip\n",
      "inf_mensal_fidc_202205.zip\n",
      "inf_mensal_fidc_202206.zip\n",
      "inf_mensal_fidc_202207.zip\n",
      "inf_mensal_fidc_202208.zip\n",
      "inf_mensal_fidc_202209.zip\n",
      "inf_mensal_fidc_202210.zip\n",
      "inf_mensal_fidc_202211.zip\n",
      "inf_mensal_fidc_202212.zip\n",
      "inf_mensal_fidc_201901.zip\n",
      "48\n"
     ]
    },
    {
     "data": {
      "text/plain": [
       "list"
      ]
     },
     "execution_count": 1,
     "metadata": {},
     "output_type": "execute_result"
    }
   ],
   "source": []
  },
  {
   "attachments": {},
   "cell_type": "markdown",
   "metadata": {},
   "source": [
    "### 9. Defining a function for checking if a directory exists"
   ]
  },
  {
   "cell_type": "code",
   "execution_count": 442,
   "metadata": {},
   "outputs": [],
   "source": [
    "def check_dir_tab_exists():\n",
    "    if not os.path.isdir(os.path.join(cwd, 'tab_I')):\n",
    "        os.makedirs(os.path.join(cwd, 'tab_I'))\n",
    "        return()"
   ]
  },
  {
   "cell_type": "code",
   "execution_count": 12,
   "metadata": {},
   "outputs": [
    {
     "ename": "NameError",
     "evalue": "name 'cwd' is not defined",
     "output_type": "error",
     "traceback": [
      "\u001b[1;31m---------------------------------------------------------------------------\u001b[0m",
      "\u001b[1;31mNameError\u001b[0m                                 Traceback (most recent call last)",
      "\u001b[1;32mc:\\Users\\andre\\OneDrive\\Documentos\\Private\\Salerno\\Profissional\\1) AS PARTNERS\\Data Fintech Solutions\\fidcs\\python_exercises\\exercises.ipynb Cell 53\u001b[0m in \u001b[0;36m<cell line: 1>\u001b[1;34m()\u001b[0m\n\u001b[1;32m----> <a href='vscode-notebook-cell:/c%3A/Users/andre/OneDrive/Documentos/Private/Salerno/Profissional/1%29%20AS%20PARTNERS/Data%20Fintech%20Solutions/fidcs/python_exercises/exercises.ipynb#Y116sZmlsZQ%3D%3D?line=0'>1</a>\u001b[0m \u001b[39mprint\u001b[39m(cwd)\n",
      "\u001b[1;31mNameError\u001b[0m: name 'cwd' is not defined"
     ]
    }
   ],
   "source": [
    "print(cwd)"
   ]
  },
  {
   "cell_type": "code",
   "execution_count": 447,
   "metadata": {},
   "outputs": [],
   "source": [
    "list_tab_I = []\n",
    "\n",
    "def extract_all_zipFiles():\n",
    "    for fileZipe in list_zipFiles:\n",
    "        with ZipFile(fileZipe, 'r') as zipObject:\n",
    "            for fileName in zipObject.namelist():\n",
    "                # if fileName.startswith('inf_mensal_fidc_tab_I_'):\n",
    "                    list_tab_I.append(fileName)\n",
    "                    check_dir_tab_exists()\n",
    "                    for file_tab_I in list_tab_I:\n",
    "                        zipObject.extract(file_tab_I, './../extract/tab_I')"
   ]
  },
  {
   "cell_type": "code",
   "execution_count": 457,
   "metadata": {},
   "outputs": [],
   "source": [
    "\n",
    "def extract_all_zipFiles():\n",
    "    os.chdir('./../raw')\n",
    "    for zipFile in list_zipFiles:\n",
    "        with ZipFile(str('/' + zipFile), 'r') as zObject:\n",
    "           # Extracting specific file in the zip\n",
    "            # into a specific location.\n",
    "            zObject.extract(zipFile, path='./extract/tab_I')\n",
    "        zObject.close()"
   ]
  },
  {
   "cell_type": "code",
   "execution_count": 458,
   "metadata": {},
   "outputs": [
    {
     "ename": "FileNotFoundError",
     "evalue": "[Errno 2] No such file or directory: '/inf_mensal_fidc_201901.zip'",
     "output_type": "error",
     "traceback": [
      "\u001b[1;31m---------------------------------------------------------------------------\u001b[0m",
      "\u001b[1;31mFileNotFoundError\u001b[0m                         Traceback (most recent call last)",
      "\u001b[1;32mc:\\Users\\andre\\OneDrive\\Documentos\\Private\\Salerno\\Profissional\\1) AS PARTNERS\\Data Fintech Solutions\\fidcs\\python_exercises\\exercises.ipynb Cell 51\u001b[0m in \u001b[0;36m<cell line: 1>\u001b[1;34m()\u001b[0m\n\u001b[1;32m----> <a href='vscode-notebook-cell:/c%3A/Users/andre/OneDrive/Documentos/Private/Salerno/Profissional/1%29%20AS%20PARTNERS/Data%20Fintech%20Solutions/fidcs/python_exercises/exercises.ipynb#Y120sZmlsZQ%3D%3D?line=0'>1</a>\u001b[0m extract_all_zipFiles()\n",
      "\u001b[1;32mc:\\Users\\andre\\OneDrive\\Documentos\\Private\\Salerno\\Profissional\\1) AS PARTNERS\\Data Fintech Solutions\\fidcs\\python_exercises\\exercises.ipynb Cell 51\u001b[0m in \u001b[0;36mextract_all_zipFiles\u001b[1;34m()\u001b[0m\n\u001b[0;32m      <a href='vscode-notebook-cell:/c%3A/Users/andre/OneDrive/Documentos/Private/Salerno/Profissional/1%29%20AS%20PARTNERS/Data%20Fintech%20Solutions/fidcs/python_exercises/exercises.ipynb#Y120sZmlsZQ%3D%3D?line=1'>2</a>\u001b[0m os\u001b[39m.\u001b[39mchdir(\u001b[39m'\u001b[39m\u001b[39m./../raw\u001b[39m\u001b[39m'\u001b[39m)\n\u001b[0;32m      <a href='vscode-notebook-cell:/c%3A/Users/andre/OneDrive/Documentos/Private/Salerno/Profissional/1%29%20AS%20PARTNERS/Data%20Fintech%20Solutions/fidcs/python_exercises/exercises.ipynb#Y120sZmlsZQ%3D%3D?line=2'>3</a>\u001b[0m \u001b[39mfor\u001b[39;00m zipFile \u001b[39min\u001b[39;00m list_zipFiles:\n\u001b[1;32m----> <a href='vscode-notebook-cell:/c%3A/Users/andre/OneDrive/Documentos/Private/Salerno/Profissional/1%29%20AS%20PARTNERS/Data%20Fintech%20Solutions/fidcs/python_exercises/exercises.ipynb#Y120sZmlsZQ%3D%3D?line=3'>4</a>\u001b[0m     \u001b[39mwith\u001b[39;00m ZipFile(\u001b[39mstr\u001b[39;49m(\u001b[39m'\u001b[39;49m\u001b[39m/\u001b[39;49m\u001b[39m'\u001b[39;49m \u001b[39m+\u001b[39;49m zipFile), \u001b[39m'\u001b[39;49m\u001b[39mr\u001b[39;49m\u001b[39m'\u001b[39;49m) \u001b[39mas\u001b[39;00m zObject:\n\u001b[0;32m      <a href='vscode-notebook-cell:/c%3A/Users/andre/OneDrive/Documentos/Private/Salerno/Profissional/1%29%20AS%20PARTNERS/Data%20Fintech%20Solutions/fidcs/python_exercises/exercises.ipynb#Y120sZmlsZQ%3D%3D?line=4'>5</a>\u001b[0m        \u001b[39m# Extracting specific file in the zip\u001b[39;00m\n\u001b[0;32m      <a href='vscode-notebook-cell:/c%3A/Users/andre/OneDrive/Documentos/Private/Salerno/Profissional/1%29%20AS%20PARTNERS/Data%20Fintech%20Solutions/fidcs/python_exercises/exercises.ipynb#Y120sZmlsZQ%3D%3D?line=5'>6</a>\u001b[0m         \u001b[39m# into a specific location.\u001b[39;00m\n\u001b[0;32m      <a href='vscode-notebook-cell:/c%3A/Users/andre/OneDrive/Documentos/Private/Salerno/Profissional/1%29%20AS%20PARTNERS/Data%20Fintech%20Solutions/fidcs/python_exercises/exercises.ipynb#Y120sZmlsZQ%3D%3D?line=6'>7</a>\u001b[0m         zObject\u001b[39m.\u001b[39mextract(zipFile, path\u001b[39m=\u001b[39m\u001b[39m'\u001b[39m\u001b[39m./extract/tab_I\u001b[39m\u001b[39m'\u001b[39m)\n\u001b[0;32m      <a href='vscode-notebook-cell:/c%3A/Users/andre/OneDrive/Documentos/Private/Salerno/Profissional/1%29%20AS%20PARTNERS/Data%20Fintech%20Solutions/fidcs/python_exercises/exercises.ipynb#Y120sZmlsZQ%3D%3D?line=7'>8</a>\u001b[0m     zObject\u001b[39m.\u001b[39mclose()\n",
      "File \u001b[1;32mc:\\ProgramData\\Anaconda3\\lib\\zipfile.py:1248\u001b[0m, in \u001b[0;36mZipFile.__init__\u001b[1;34m(self, file, mode, compression, allowZip64, compresslevel, strict_timestamps)\u001b[0m\n\u001b[0;32m   1246\u001b[0m \u001b[39mwhile\u001b[39;00m \u001b[39mTrue\u001b[39;00m:\n\u001b[0;32m   1247\u001b[0m     \u001b[39mtry\u001b[39;00m:\n\u001b[1;32m-> 1248\u001b[0m         \u001b[39mself\u001b[39m\u001b[39m.\u001b[39mfp \u001b[39m=\u001b[39m io\u001b[39m.\u001b[39;49mopen(file, filemode)\n\u001b[0;32m   1249\u001b[0m     \u001b[39mexcept\u001b[39;00m \u001b[39mOSError\u001b[39;00m:\n\u001b[0;32m   1250\u001b[0m         \u001b[39mif\u001b[39;00m filemode \u001b[39min\u001b[39;00m modeDict:\n",
      "\u001b[1;31mFileNotFoundError\u001b[0m: [Errno 2] No such file or directory: '/inf_mensal_fidc_201901.zip'"
     ]
    }
   ],
   "source": [
    "extract_all_zipFiles()"
   ]
  },
  {
   "cell_type": "code",
   "execution_count": 416,
   "metadata": {},
   "outputs": [],
   "source": [
    "# Extract specific file\n",
    "import zipfile\n",
    "\n",
    "def main():\n",
    "    \n",
    "    # create and access a list for file\n",
    "    listOffFiles = os.path.dirname()\n",
    "\n",
    "def extract_specific_file(i):\n",
    "    with ZipFile(i, 'r') as zipObject:\n",
    "        for fileName in zipObject.namelist():\n",
    "            print(fileName)\n",
    "            if fileName.startswith('inf_mensal_fidc_tab_I_'):\n",
    "                # Extract a single file from zip\n",
    "                zipObject.extract(fileName, './../extract/tab_I')\n",
    "                zipObject.close()\n",
    "            print('All the zipfiles {0}'.format(len(list_tab_I)), 'are extracted')"
   ]
  },
  {
   "cell_type": "code",
   "execution_count": 152,
   "metadata": {},
   "outputs": [
    {
     "data": {
      "text/plain": [
       "<ZipInfo filename='./inf_mensal_fidc_201903.zip' file_size=0>"
      ]
     },
     "execution_count": 152,
     "metadata": {},
     "output_type": "execute_result"
    }
   ],
   "source": [
    "zipfile.ZipInfo(\"./inf_mensal_fidc_201903.zip\")\n"
   ]
  },
  {
   "cell_type": "code",
   "execution_count": 368,
   "metadata": {},
   "outputs": [
    {
     "name": "stdout",
     "output_type": "stream",
     "text": [
      "inf_mensal_fidc_201901.zip\n"
     ]
    },
    {
     "data": {
      "text/plain": [
       "str"
      ]
     },
     "execution_count": 368,
     "metadata": {},
     "output_type": "execute_result"
    }
   ],
   "source": [
    "list_dir = os.listdir('./')\n",
    "print(list_dir[0])\n",
    "type(list_dir[0])"
   ]
  },
  {
   "cell_type": "code",
   "execution_count": 422,
   "metadata": {},
   "outputs": [
    {
     "name": "stdout",
     "output_type": "stream",
     "text": [
      "inf_mensal_fidc_tab_III_201901.csv\n",
      "inf_mensal_fidc_tab_II_201901.csv\n",
      "inf_mensal_fidc_tab_IV_201901.csv\n",
      "inf_mensal_fidc_tab_IX_201901.csv\n",
      "inf_mensal_fidc_tab_I_201901.csv\n",
      "inf_mensal_fidc_tab_VII_201901.csv\n",
      "inf_mensal_fidc_tab_VI_201901.csv\n",
      "inf_mensal_fidc_tab_V_201901.csv\n",
      "inf_mensal_fidc_tab_X_1_201901.csv\n",
      "inf_mensal_fidc_tab_X_2_201901.csv\n",
      "inf_mensal_fidc_tab_X_3_201901.csv\n",
      "inf_mensal_fidc_tab_X_4_201901.csv\n",
      "inf_mensal_fidc_tab_X_5_201901.csv\n",
      "inf_mensal_fidc_tab_X_6_201901.csv\n"
     ]
    }
   ],
   "source": [
    "extract_specific_file('./inf_mensal_fidc_201904.zip')"
   ]
  },
  {
   "cell_type": "code",
   "execution_count": 348,
   "metadata": {},
   "outputs": [
    {
     "ename": "IndentationError",
     "evalue": "unexpected indent (1462367795.py, line 5)",
     "output_type": "error",
     "traceback": [
      "\u001b[1;36m  Input \u001b[1;32mIn [348]\u001b[1;36m\u001b[0m\n\u001b[1;33m    for file in listOfFileNames:\u001b[0m\n\u001b[1;37m    ^\u001b[0m\n\u001b[1;31mIndentationError\u001b[0m\u001b[1;31m:\u001b[0m unexpected indent\n"
     ]
    }
   ],
   "source": [
    "list_tab_I = []\n",
    "\n",
    "with ZipFile('./inf_mensal_fidc_201902.zip', 'r') as zipObject:\n",
    "        listOfFileNames = zipObject.namelist()\n",
    "        \n",
    "        # for fileName in listOfFileNames:\n",
    "        #         if fileName.startswith('inf_mensal_fidc_tab_I_'):\n",
    "        #                 print(fileName)\n",
    "        # zipObject.close()"
   ]
  },
  {
   "cell_type": "code",
   "execution_count": 347,
   "metadata": {},
   "outputs": [
    {
     "data": {
      "text/plain": [
       "[]"
      ]
     },
     "execution_count": 347,
     "metadata": {},
     "output_type": "execute_result"
    }
   ],
   "source": [
    "zipObject.namelist()"
   ]
  },
  {
   "cell_type": "code",
   "execution_count": null,
   "metadata": {},
   "outputs": [],
   "source": [
    "import os\n",
    "import shutil\n",
    "import tempfile\n",
    "from zipfile import ZipFile, ZIP_STORED, ZipInfo\n",
    "\n",
    "\n",
    "class UpdateableZipFile(ZipFile):\n",
    "    \"\"\"\n",
    "    Add delete (via remove_file) and update (via writestr and write methods)\n",
    "    To enable update features use UpdateableZipFile with the 'with statement',\n",
    "    Upon  __exit__ (if updates were applied) a new zip file will override the exiting one with the updates\n",
    "    \"\"\"\n",
    "\n",
    "    class DeleteMarker(object):\n",
    "        pass\n",
    "\n",
    "    def __init__(self, file, mode=\"r\", compression=ZIP_STORED, allowZip64=False):\n",
    "        # Init base\n",
    "        super(UpdateableZipFile, self).__init__(file, mode=mode,\n",
    "                                                compression=compression,\n",
    "                                                allowZip64=allowZip64)\n",
    "        # track file to override in zip\n",
    "        self._replace = {}\n",
    "        # Whether the with statement was called\n",
    "        self._allow_updates = False\n",
    "\n",
    "    def writestr(self, zinfo_or_arcname, bytes, compress_type=None):\n",
    "        if isinstance(zinfo_or_arcname, ZipInfo):\n",
    "            name = zinfo_or_arcname.filename\n",
    "        else:\n",
    "            name = zinfo_or_arcname\n",
    "        # If the file exits, and needs to be overridden,\n",
    "        # mark the entry, and create a temp-file for it\n",
    "        # we allow this only if the with statement is used\n",
    "        if self._allow_updates and name in self.namelist():\n",
    "            temp_file = self._replace[name] = self._replace.get(name,\n",
    "                                                                tempfile.TemporaryFile())\n",
    "            temp_file.write(bytes)\n",
    "        # Otherwise just act normally\n",
    "        else:\n",
    "            super(UpdateableZipFile, self).writestr(zinfo_or_arcname,\n",
    "                                                    bytes, compress_type=compress_type)\n",
    "\n",
    "    def write(self, filename, arcname=None, compress_type=None):\n",
    "        arcname = arcname or filename\n",
    "        # If the file exits, and needs to be overridden,\n",
    "        # mark the entry, and create a temp-file for it\n",
    "        # we allow this only if the with statement is used\n",
    "        if self._allow_updates and arcname in self.namelist():\n",
    "            temp_file = self._replace[arcname] = self._replace.get(arcname,\n",
    "                                                                   tempfile.TemporaryFile())\n",
    "            with open(filename, \"rb\") as source:\n",
    "                shutil.copyfileobj(source, temp_file)\n",
    "        # Otherwise just act normally\n",
    "        else:\n",
    "            super(UpdateableZipFile, self).write(filename, \n",
    "                                                 arcname=arcname, compress_type=compress_type)\n",
    "\n",
    "    def __enter__(self):\n",
    "        # Allow updates\n",
    "        self._allow_updates = True\n",
    "        return self\n",
    "\n",
    "    def __exit__(self, exc_type, exc_val, exc_tb):\n",
    "        # call base to close zip file, organically\n",
    "        try:\n",
    "            super(UpdateableZipFile, self).__exit__(exc_type, exc_val, exc_tb)\n",
    "            if len(self._replace) > 0:\n",
    "                self._rebuild_zip()\n",
    "        finally:\n",
    "            # In case rebuild zip failed,\n",
    "            # be sure to still release all the temp files\n",
    "            self._close_all_temp_files()\n",
    "            self._allow_updates = False\n",
    "\n",
    "    def _close_all_temp_files(self):\n",
    "        for temp_file in self._replace.itervalues():\n",
    "            if hasattr(temp_file, 'close'):\n",
    "                temp_file.close()\n",
    "\n",
    "    def remove_file(self, path):\n",
    "        self._replace[path] = self.DeleteMarker()\n",
    "\n",
    "    def _rebuild_zip(self):\n",
    "        tempdir = tempfile.mkdtemp()\n",
    "        try:\n",
    "            temp_zip_path = os.path.join(tempdir, 'new.zip')\n",
    "            with ZipFile(self.filename, 'r') as zip_read:\n",
    "                # Create new zip with assigned properties\n",
    "                with ZipFile(temp_zip_path, 'w', compression=self.compression,\n",
    "                             allowZip64=self._allowZip64) as zip_write:\n",
    "                    for item in zip_read.infolist():\n",
    "                        # Check if the file should be replaced / or deleted\n",
    "                        replacement = self._replace.get(item.filename, None)\n",
    "                        # If marked for deletion, do not copy file to new zipfile\n",
    "                        if isinstance(replacement, self.DeleteMarker):\n",
    "                            del self._replace[item.filename]\n",
    "                            continue\n",
    "                        # If marked for replacement, copy temp_file, instead of old file\n",
    "                        elif replacement is not None:\n",
    "                            del self._replace[item.filename]\n",
    "                            # Write replacement to archive,\n",
    "                            # and then close it (deleting the temp file)\n",
    "                            replacement.seek(0)\n",
    "                            data = replacement.read()\n",
    "                            replacement.close()\n",
    "                        else:\n",
    "                            data = zip_read.read(item.filename)\n",
    "                        zip_write.writestr(item, data)\n",
    "            # Override the archive with the updated one\n",
    "            shutil.move(temp_zip_path, self.filename)\n",
    "        finally:\n",
    "            shutil.rmtree(tempdir)"
   ]
  },
  {
   "cell_type": "code",
   "execution_count": 181,
   "metadata": {},
   "outputs": [
    {
     "name": "stdout",
     "output_type": "stream",
     "text": [
      "<class 'numpy.ndarray'>\n"
     ]
    }
   ],
   "source": [
    "listZipFiles = np.array(os.listdir())\n",
    "print(type(listZipFiles))"
   ]
  },
  {
   "cell_type": "code",
   "execution_count": 180,
   "metadata": {},
   "outputs": [
    {
     "name": "stdout",
     "output_type": "stream",
     "text": [
      "inf_mensal_fidc_201901.zip inf_mensal_fidc_201902.zip inf_mensal_fidc_201903.zip inf_mensal_fidc_201904.zip inf_mensal_fidc_201905.zip inf_mensal_fidc_201906.zip inf_mensal_fidc_201907.zip inf_mensal_fidc_201908.zip inf_mensal_fidc_201909.zip inf_mensal_fidc_201910.zip inf_mensal_fidc_201911.zip inf_mensal_fidc_201912.zip inf_mensal_fidc_202001.zip inf_mensal_fidc_202002.zip inf_mensal_fidc_202003.zip inf_mensal_fidc_202004.zip inf_mensal_fidc_202005.zip inf_mensal_fidc_202006.zip inf_mensal_fidc_202007.zip inf_mensal_fidc_202008.zip inf_mensal_fidc_202009.zip inf_mensal_fidc_202010.zip inf_mensal_fidc_202011.zip inf_mensal_fidc_202012.zip inf_mensal_fidc_202101.zip inf_mensal_fidc_202102.zip inf_mensal_fidc_202103.zip inf_mensal_fidc_202104.zip inf_mensal_fidc_202105.zip inf_mensal_fidc_202106.zip inf_mensal_fidc_202107.zip inf_mensal_fidc_202108.zip inf_mensal_fidc_202109.zip inf_mensal_fidc_202110.zip inf_mensal_fidc_202111.zip inf_mensal_fidc_202112.zip inf_mensal_fidc_202201.zip inf_mensal_fidc_202202.zip inf_mensal_fidc_202203.zip inf_mensal_fidc_202204.zip inf_mensal_fidc_202205.zip inf_mensal_fidc_202206.zip inf_mensal_fidc_202207.zip inf_mensal_fidc_202208.zip inf_mensal_fidc_202209.zip inf_mensal_fidc_202210.zip inf_mensal_fidc_202211.zip inf_mensal_fidc_202212.zip\n"
     ]
    }
   ],
   "source": [
    "print(*listZipFiles)"
   ]
  },
  {
   "cell_type": "code",
   "execution_count": 232,
   "metadata": {},
   "outputs": [],
   "source": [
    "list_tab_I = []\n",
    "\n",
    "def extract_specific_file(i):\n",
    "    with ZipFile(i, 'r') as objectZip:\n",
    "        for fileName in objectZip.namelist():\n",
    "            # print(fileName)\n",
    "            if fileName.startswith('inf_mensal_fidc_tab_I_'):\n",
    "                list_tab_I.append(fileName)\n",
    "                for list in list_tab_I:\n",
    "                # Extract a single file from zip\n",
    "                    objectZip.extract(list, './../extract/tab_I')\n",
    "    # objectZip.close()\n",
    "    print('All the zipfiles {0}'.format(len(list_tab_I)), 'were extracted')"
   ]
  },
  {
   "cell_type": "code",
   "execution_count": 234,
   "metadata": {},
   "outputs": [
    {
     "name": "stdout",
     "output_type": "stream",
     "text": [
      "All the zipfiles 1 were extracted\n",
      "All the zipfiles 2 were extracted\n",
      "All the zipfiles 3 were extracted\n",
      "All the zipfiles 4 were extracted\n",
      "All the zipfiles 5 were extracted\n",
      "All the zipfiles 6 were extracted\n",
      "All the zipfiles 7 were extracted\n",
      "All the zipfiles 8 were extracted\n",
      "All the zipfiles 9 were extracted\n",
      "All the zipfiles 10 were extracted\n",
      "All the zipfiles 11 were extracted\n",
      "All the zipfiles 12 were extracted\n",
      "All the zipfiles 13 were extracted\n",
      "All the zipfiles 14 were extracted\n",
      "All the zipfiles 15 were extracted\n",
      "All the zipfiles 16 were extracted\n",
      "All the zipfiles 17 were extracted\n",
      "All the zipfiles 18 were extracted\n",
      "All the zipfiles 19 were extracted\n",
      "All the zipfiles 20 were extracted\n",
      "All the zipfiles 21 were extracted\n",
      "All the zipfiles 22 were extracted\n",
      "All the zipfiles 23 were extracted\n",
      "All the zipfiles 24 were extracted\n",
      "All the zipfiles 25 were extracted\n",
      "All the zipfiles 26 were extracted\n",
      "All the zipfiles 27 were extracted\n",
      "All the zipfiles 28 were extracted\n",
      "All the zipfiles 29 were extracted\n",
      "All the zipfiles 30 were extracted\n",
      "All the zipfiles 31 were extracted\n",
      "All the zipfiles 32 were extracted\n",
      "All the zipfiles 33 were extracted\n",
      "All the zipfiles 34 were extracted\n",
      "All the zipfiles 35 were extracted\n",
      "All the zipfiles 36 were extracted\n"
     ]
    },
    {
     "ename": "KeyError",
     "evalue": "\"There is no item named 'inf_mensal_fidc_tab_I_201903.csv' in the archive\"",
     "output_type": "error",
     "traceback": [
      "\u001b[1;31m---------------------------------------------------------------------------\u001b[0m",
      "\u001b[1;31mKeyError\u001b[0m                                  Traceback (most recent call last)",
      "\u001b[1;32mc:\\Users\\andre\\OneDrive\\Documentos\\Private\\Salerno\\Profissional\\1) AS PARTNERS\\Data Fintech Solutions\\fidcs\\python_exercises\\exercises.ipynb Cell 76\u001b[0m in \u001b[0;36m<cell line: 1>\u001b[1;34m()\u001b[0m\n\u001b[0;32m      <a href='vscode-notebook-cell:/c%3A/Users/andre/OneDrive/Documentos/Private/Salerno/Profissional/1%29%20AS%20PARTNERS/Data%20Fintech%20Solutions/fidcs/python_exercises/exercises.ipynb#Y161sZmlsZQ%3D%3D?line=0'>1</a>\u001b[0m \u001b[39mfor\u001b[39;00m file \u001b[39min\u001b[39;00m os\u001b[39m.\u001b[39mlistdir(\u001b[39m\"\u001b[39m\u001b[39m./../raw/\u001b[39m\u001b[39m\"\u001b[39m):\n\u001b[1;32m----> <a href='vscode-notebook-cell:/c%3A/Users/andre/OneDrive/Documentos/Private/Salerno/Profissional/1%29%20AS%20PARTNERS/Data%20Fintech%20Solutions/fidcs/python_exercises/exercises.ipynb#Y161sZmlsZQ%3D%3D?line=1'>2</a>\u001b[0m     extract_specific_file(file)\n",
      "\u001b[1;32mc:\\Users\\andre\\OneDrive\\Documentos\\Private\\Salerno\\Profissional\\1) AS PARTNERS\\Data Fintech Solutions\\fidcs\\python_exercises\\exercises.ipynb Cell 76\u001b[0m in \u001b[0;36mextract_specific_file\u001b[1;34m(i)\u001b[0m\n\u001b[0;32m      <a href='vscode-notebook-cell:/c%3A/Users/andre/OneDrive/Documentos/Private/Salerno/Profissional/1%29%20AS%20PARTNERS/Data%20Fintech%20Solutions/fidcs/python_exercises/exercises.ipynb#Y161sZmlsZQ%3D%3D?line=7'>8</a>\u001b[0m             list_tab_I\u001b[39m.\u001b[39mappend(fileName)\n\u001b[0;32m      <a href='vscode-notebook-cell:/c%3A/Users/andre/OneDrive/Documentos/Private/Salerno/Profissional/1%29%20AS%20PARTNERS/Data%20Fintech%20Solutions/fidcs/python_exercises/exercises.ipynb#Y161sZmlsZQ%3D%3D?line=8'>9</a>\u001b[0m             \u001b[39mfor\u001b[39;00m \u001b[39mlist\u001b[39m \u001b[39min\u001b[39;00m list_tab_I:\n\u001b[0;32m     <a href='vscode-notebook-cell:/c%3A/Users/andre/OneDrive/Documentos/Private/Salerno/Profissional/1%29%20AS%20PARTNERS/Data%20Fintech%20Solutions/fidcs/python_exercises/exercises.ipynb#Y161sZmlsZQ%3D%3D?line=9'>10</a>\u001b[0m             \u001b[39m# Extract a single file from zip\u001b[39;00m\n\u001b[1;32m---> <a href='vscode-notebook-cell:/c%3A/Users/andre/OneDrive/Documentos/Private/Salerno/Profissional/1%29%20AS%20PARTNERS/Data%20Fintech%20Solutions/fidcs/python_exercises/exercises.ipynb#Y161sZmlsZQ%3D%3D?line=10'>11</a>\u001b[0m                 objectZip\u001b[39m.\u001b[39;49mextract(\u001b[39mlist\u001b[39;49m, \u001b[39m'\u001b[39;49m\u001b[39m./../extract/tab_I\u001b[39;49m\u001b[39m'\u001b[39;49m)\n\u001b[0;32m     <a href='vscode-notebook-cell:/c%3A/Users/andre/OneDrive/Documentos/Private/Salerno/Profissional/1%29%20AS%20PARTNERS/Data%20Fintech%20Solutions/fidcs/python_exercises/exercises.ipynb#Y161sZmlsZQ%3D%3D?line=11'>12</a>\u001b[0m \u001b[39m# objectZip.close()\u001b[39;00m\n\u001b[0;32m     <a href='vscode-notebook-cell:/c%3A/Users/andre/OneDrive/Documentos/Private/Salerno/Profissional/1%29%20AS%20PARTNERS/Data%20Fintech%20Solutions/fidcs/python_exercises/exercises.ipynb#Y161sZmlsZQ%3D%3D?line=12'>13</a>\u001b[0m \u001b[39mprint\u001b[39m(\u001b[39m'\u001b[39m\u001b[39mAll the zipfiles \u001b[39m\u001b[39m{0}\u001b[39;00m\u001b[39m'\u001b[39m\u001b[39m.\u001b[39mformat(\u001b[39mlen\u001b[39m(list_tab_I)), \u001b[39m'\u001b[39m\u001b[39mwere extracted\u001b[39m\u001b[39m'\u001b[39m)\n",
      "File \u001b[1;32mc:\\ProgramData\\Anaconda3\\lib\\zipfile.py:1625\u001b[0m, in \u001b[0;36mZipFile.extract\u001b[1;34m(self, member, path, pwd)\u001b[0m\n\u001b[0;32m   1622\u001b[0m \u001b[39melse\u001b[39;00m:\n\u001b[0;32m   1623\u001b[0m     path \u001b[39m=\u001b[39m os\u001b[39m.\u001b[39mfspath(path)\n\u001b[1;32m-> 1625\u001b[0m \u001b[39mreturn\u001b[39;00m \u001b[39mself\u001b[39;49m\u001b[39m.\u001b[39;49m_extract_member(member, path, pwd)\n",
      "File \u001b[1;32mc:\\ProgramData\\Anaconda3\\lib\\zipfile.py:1664\u001b[0m, in \u001b[0;36mZipFile._extract_member\u001b[1;34m(self, member, targetpath, pwd)\u001b[0m\n\u001b[0;32m   1660\u001b[0m \u001b[39m\"\"\"Extract the ZipInfo object 'member' to a physical\u001b[39;00m\n\u001b[0;32m   1661\u001b[0m \u001b[39m   file on the path targetpath.\u001b[39;00m\n\u001b[0;32m   1662\u001b[0m \u001b[39m\"\"\"\u001b[39;00m\n\u001b[0;32m   1663\u001b[0m \u001b[39mif\u001b[39;00m \u001b[39mnot\u001b[39;00m \u001b[39misinstance\u001b[39m(member, ZipInfo):\n\u001b[1;32m-> 1664\u001b[0m     member \u001b[39m=\u001b[39m \u001b[39mself\u001b[39;49m\u001b[39m.\u001b[39;49mgetinfo(member)\n\u001b[0;32m   1666\u001b[0m \u001b[39m# build the destination pathname, replacing\u001b[39;00m\n\u001b[0;32m   1667\u001b[0m \u001b[39m# forward slashes to platform specific separators.\u001b[39;00m\n\u001b[0;32m   1668\u001b[0m arcname \u001b[39m=\u001b[39m member\u001b[39m.\u001b[39mfilename\u001b[39m.\u001b[39mreplace(\u001b[39m'\u001b[39m\u001b[39m/\u001b[39m\u001b[39m'\u001b[39m, os\u001b[39m.\u001b[39mpath\u001b[39m.\u001b[39msep)\n",
      "File \u001b[1;32mc:\\ProgramData\\Anaconda3\\lib\\zipfile.py:1438\u001b[0m, in \u001b[0;36mZipFile.getinfo\u001b[1;34m(self, name)\u001b[0m\n\u001b[0;32m   1436\u001b[0m info \u001b[39m=\u001b[39m \u001b[39mself\u001b[39m\u001b[39m.\u001b[39mNameToInfo\u001b[39m.\u001b[39mget(name)\n\u001b[0;32m   1437\u001b[0m \u001b[39mif\u001b[39;00m info \u001b[39mis\u001b[39;00m \u001b[39mNone\u001b[39;00m:\n\u001b[1;32m-> 1438\u001b[0m     \u001b[39mraise\u001b[39;00m \u001b[39mKeyError\u001b[39;00m(\n\u001b[0;32m   1439\u001b[0m         \u001b[39m'\u001b[39m\u001b[39mThere is no item named \u001b[39m\u001b[39m%r\u001b[39;00m\u001b[39m in the archive\u001b[39m\u001b[39m'\u001b[39m \u001b[39m%\u001b[39m name)\n\u001b[0;32m   1441\u001b[0m \u001b[39mreturn\u001b[39;00m info\n",
      "\u001b[1;31mKeyError\u001b[0m: \"There is no item named 'inf_mensal_fidc_tab_I_201903.csv' in the archive\""
     ]
    }
   ],
   "source": [
    "for file in os.listdir(\"./../raw/\"):\n",
    "    extract_specific_file(file)\n",
    "\n"
   ]
  },
  {
   "cell_type": "code",
   "execution_count": 209,
   "metadata": {},
   "outputs": [
    {
     "name": "stdout",
     "output_type": "stream",
     "text": [
      "inf_mensal_fidc_tab_III_201903.csv\n",
      "inf_mensal_fidc_tab_II_201903.csv\n",
      "inf_mensal_fidc_tab_IV_201903.csv\n",
      "inf_mensal_fidc_tab_IX_201903.csv\n",
      "inf_mensal_fidc_tab_I_201903.csv\n",
      "inf_mensal_fidc_tab_VII_201903.csv\n",
      "inf_mensal_fidc_tab_VI_201903.csv\n",
      "inf_mensal_fidc_tab_V_201903.csv\n",
      "inf_mensal_fidc_tab_X_1_201903.csv\n",
      "inf_mensal_fidc_tab_X_2_201903.csv\n",
      "inf_mensal_fidc_tab_X_3_201903.csv\n",
      "inf_mensal_fidc_tab_X_4_201903.csv\n",
      "inf_mensal_fidc_tab_X_5_201903.csv\n",
      "inf_mensal_fidc_tab_X_6_201903.csv\n"
     ]
    }
   ],
   "source": [
    "\n",
    "\n",
    "with ZipFile('./inf_mensal_fidc_201901.zip', 'r') as zipObject:\n",
    "        for fileName in zipObject.namelist():\n",
    "            print(fileName)"
   ]
  },
  {
   "cell_type": "code",
   "execution_count": 210,
   "metadata": {},
   "outputs": [
    {
     "data": {
      "text/plain": [
       "['inf_mensal_fidc_201901.zip',\n",
       " 'inf_mensal_fidc_201902.zip',\n",
       " 'inf_mensal_fidc_201903.zip',\n",
       " 'inf_mensal_fidc_201904.zip',\n",
       " 'inf_mensal_fidc_201905.zip',\n",
       " 'inf_mensal_fidc_201906.zip',\n",
       " 'inf_mensal_fidc_201907.zip',\n",
       " 'inf_mensal_fidc_201908.zip',\n",
       " 'inf_mensal_fidc_201909.zip',\n",
       " 'inf_mensal_fidc_201910.zip',\n",
       " 'inf_mensal_fidc_201911.zip',\n",
       " 'inf_mensal_fidc_201912.zip',\n",
       " 'inf_mensal_fidc_202001.zip',\n",
       " 'inf_mensal_fidc_202002.zip',\n",
       " 'inf_mensal_fidc_202003.zip',\n",
       " 'inf_mensal_fidc_202004.zip',\n",
       " 'inf_mensal_fidc_202005.zip',\n",
       " 'inf_mensal_fidc_202006.zip',\n",
       " 'inf_mensal_fidc_202007.zip',\n",
       " 'inf_mensal_fidc_202008.zip',\n",
       " 'inf_mensal_fidc_202009.zip',\n",
       " 'inf_mensal_fidc_202010.zip',\n",
       " 'inf_mensal_fidc_202011.zip',\n",
       " 'inf_mensal_fidc_202012.zip',\n",
       " 'inf_mensal_fidc_202101.zip',\n",
       " 'inf_mensal_fidc_202102.zip',\n",
       " 'inf_mensal_fidc_202103.zip',\n",
       " 'inf_mensal_fidc_202104.zip',\n",
       " 'inf_mensal_fidc_202105.zip',\n",
       " 'inf_mensal_fidc_202106.zip',\n",
       " 'inf_mensal_fidc_202107.zip',\n",
       " 'inf_mensal_fidc_202108.zip',\n",
       " 'inf_mensal_fidc_202109.zip',\n",
       " 'inf_mensal_fidc_202110.zip',\n",
       " 'inf_mensal_fidc_202111.zip',\n",
       " 'inf_mensal_fidc_202112.zip',\n",
       " 'inf_mensal_fidc_202201.zip',\n",
       " 'inf_mensal_fidc_202202.zip',\n",
       " 'inf_mensal_fidc_202203.zip',\n",
       " 'inf_mensal_fidc_202204.zip',\n",
       " 'inf_mensal_fidc_202205.zip',\n",
       " 'inf_mensal_fidc_202206.zip',\n",
       " 'inf_mensal_fidc_202207.zip',\n",
       " 'inf_mensal_fidc_202208.zip',\n",
       " 'inf_mensal_fidc_202209.zip',\n",
       " 'inf_mensal_fidc_202210.zip',\n",
       " 'inf_mensal_fidc_202211.zip',\n",
       " 'inf_mensal_fidc_202212.zip']"
      ]
     },
     "execution_count": 210,
     "metadata": {},
     "output_type": "execute_result"
    }
   ],
   "source": [
    "import glob\n",
    "\n",
    "glob.glob('*zip')"
   ]
  },
  {
   "cell_type": "code",
   "execution_count": null,
   "metadata": {},
   "outputs": [],
   "source": [
    "import pathlib\n",
    "import zipfile\n",
    "\n",
    "directory = pathlib.Path(\"./../raw/\")\n",
    "\n",
    "with zipfile.ZipFile(i, mode=\"w\") as archive:\n",
    "    for file_path in directory.iterdir():\n",
    "        archive.write(file_path, arcname=file_path.name)\n",
    "\n",
    "\n"
   ]
  },
  {
   "cell_type": "code",
   "execution_count": 226,
   "metadata": {},
   "outputs": [
    {
     "name": "stdout",
     "output_type": "stream",
     "text": [
      "File Name                                             Modified             Size\n",
      "inf_mensal_fidc_tab_III_201903.csv             2020-09-26 10:24:54       150575\n",
      "inf_mensal_fidc_tab_II_201903.csv              2020-09-26 10:24:54       265914\n",
      "inf_mensal_fidc_tab_IV_201903.csv              2020-09-26 10:24:56       116546\n",
      "inf_mensal_fidc_tab_IX_201903.csv              2020-09-26 10:25:02       436619\n",
      "inf_mensal_fidc_tab_I_201903.csv               2020-09-26 10:24:52       433613\n",
      "inf_mensal_fidc_tab_VII_201903.csv             2020-09-26 10:25:00       220706\n",
      "inf_mensal_fidc_tab_VI_201903.csv              2020-09-26 10:24:58       226817\n",
      "inf_mensal_fidc_tab_V_201903.csv               2020-09-26 10:24:56       215139\n",
      "inf_mensal_fidc_tab_X_1_201903.csv             2020-09-26 10:25:30       236581\n",
      "inf_mensal_fidc_tab_X_2_201903.csv             2020-09-26 10:25:58       397004\n",
      "inf_mensal_fidc_tab_X_3_201903.csv             2020-09-26 10:26:26       248333\n",
      "inf_mensal_fidc_tab_X_4_201903.csv             2020-09-26 10:26:56      1320485\n",
      "inf_mensal_fidc_tab_X_5_201903.csv             2020-09-26 10:27:24        90181\n",
      "inf_mensal_fidc_tab_X_6_201903.csv             2020-09-26 10:27:52       217553\n"
     ]
    }
   ],
   "source": [
    "with zipfile.ZipFile(\"./inf_mensal_fidc_201901.zip\", mode=\"r\") as archive:\n",
    "     archive.printdir()"
   ]
  },
  {
   "cell_type": "code",
   "execution_count": 228,
   "metadata": {},
   "outputs": [],
   "source": [
    "archive.close()"
   ]
  },
  {
   "cell_type": "code",
   "execution_count": 229,
   "metadata": {},
   "outputs": [
    {
     "data": {
      "text/plain": [
       "<zipfile.ZipFile [closed]>"
      ]
     },
     "execution_count": 229,
     "metadata": {},
     "output_type": "execute_result"
    }
   ],
   "source": [
    "archive"
   ]
  },
  {
   "cell_type": "code",
   "execution_count": null,
   "metadata": {},
   "outputs": [],
   "source": []
  }
 ],
 "metadata": {
  "kernelspec": {
   "display_name": "base",
   "language": "python",
   "name": "python3"
  },
  "language_info": {
   "codemirror_mode": {
    "name": "ipython",
    "version": 3
   },
   "file_extension": ".py",
   "mimetype": "text/x-python",
   "name": "python",
   "nbconvert_exporter": "python",
   "pygments_lexer": "ipython3",
   "version": "3.9.12"
  },
  "orig_nbformat": 4,
  "vscode": {
   "interpreter": {
    "hash": "ad2bdc8ecc057115af97d19610ffacc2b4e99fae6737bb82f5d7fb13d2f2c186"
   }
  }
 },
 "nbformat": 4,
 "nbformat_minor": 2
}
