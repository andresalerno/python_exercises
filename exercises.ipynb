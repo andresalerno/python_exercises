{
 "cells": [
  {
   "cell_type": "code",
   "execution_count": 13,
   "metadata": {},
   "outputs": [],
   "source": [
    "list = [1, 2, 3, 4, 5, 6]"
   ]
  },
  {
   "cell_type": "code",
   "execution_count": 14,
   "metadata": {},
   "outputs": [
    {
     "name": "stdout",
     "output_type": "stream",
     "text": [
      "[1, 2, 3, 4, 5, 6]\n"
     ]
    }
   ],
   "source": [
    "print(list)"
   ]
  },
  {
   "cell_type": "code",
   "execution_count": 15,
   "metadata": {},
   "outputs": [
    {
     "name": "stdout",
     "output_type": "stream",
     "text": [
      "1\n",
      "2\n",
      "3\n",
      "4\n",
      "5\n",
      "6\n"
     ]
    }
   ],
   "source": [
    "for i in list:\n",
    "    print(i)"
   ]
  },
  {
   "cell_type": "code",
   "execution_count": 16,
   "metadata": {},
   "outputs": [
    {
     "name": "stdout",
     "output_type": "stream",
     "text": [
      "Not exists\n"
     ]
    }
   ],
   "source": [
    "i = 7\n",
    "\n",
    "if i in list:\n",
    "    print('Exists')\n",
    "else:\n",
    "    print('Not exists')"
   ]
  },
  {
   "cell_type": "code",
   "execution_count": 17,
   "metadata": {},
   "outputs": [
    {
     "name": "stdout",
     "output_type": "stream",
     "text": [
      "Exists\n"
     ]
    }
   ],
   "source": [
    "for i in list:\n",
    "    if(i == 6):\n",
    "        print('Exists')"
   ]
  },
  {
   "cell_type": "code",
   "execution_count": 18,
   "metadata": {},
   "outputs": [],
   "source": [
    "if (7 in list):\n",
    "    print('Exists')"
   ]
  },
  {
   "cell_type": "code",
   "execution_count": 19,
   "metadata": {},
   "outputs": [
    {
     "name": "stdout",
     "output_type": "stream",
     "text": [
      "Does string contain any list element : True\n"
     ]
    }
   ],
   "source": [
    "result = any(6 in list for i in list)\n",
    "print('Does string contain any list element : ' +str(bool(result)))"
   ]
  },
  {
   "attachments": {},
   "cell_type": "markdown",
   "metadata": {},
   "source": [
    "### os.Path"
   ]
  },
  {
   "cell_type": "code",
   "execution_count": 20,
   "metadata": {},
   "outputs": [],
   "source": [
    "import os"
   ]
  },
  {
   "cell_type": "code",
   "execution_count": 21,
   "metadata": {},
   "outputs": [
    {
     "ename": "SyntaxError",
     "evalue": "invalid syntax (3729642625.py, line 2)",
     "output_type": "error",
     "traceback": [
      "\u001b[0;36m  Cell \u001b[0;32mIn[21], line 2\u001b[0;36m\u001b[0m\n\u001b[0;31m    if not print(cwd)\u001b[0m\n\u001b[0m                     ^\u001b[0m\n\u001b[0;31mSyntaxError\u001b[0m\u001b[0;31m:\u001b[0m invalid syntax\n"
     ]
    }
   ],
   "source": [
    "cwd = os.getcwd()\n",
    "if not print(cwd)"
   ]
  },
  {
   "cell_type": "code",
   "execution_count": null,
   "metadata": {},
   "outputs": [],
   "source": [
    "if not os.path.exists(os.path.join(cwd, 'test')):\n",
    "    os.makedirs(os.path.join(cwd, 'test'))"
   ]
  },
  {
   "cell_type": "code",
   "execution_count": null,
   "metadata": {},
   "outputs": [],
   "source": [
    "if not os.path.isdir(os.path.join(cwd, 'test')):\n",
    "    os.makedirs(os.path.join(cwd, 'test'))"
   ]
  },
  {
   "cell_type": "code",
   "execution_count": null,
   "metadata": {},
   "outputs": [
    {
     "data": {
      "text/plain": [
       "'/Users/andresalerno/Documents/exercises'"
      ]
     },
     "execution_count": 19,
     "metadata": {},
     "output_type": "execute_result"
    }
   ],
   "source": [
    "os.path.abspath(cwd)"
   ]
  },
  {
   "cell_type": "code",
   "execution_count": null,
   "metadata": {},
   "outputs": [
    {
     "data": {
      "text/plain": [
       "'exercises'"
      ]
     },
     "execution_count": 21,
     "metadata": {},
     "output_type": "execute_result"
    }
   ],
   "source": [
    "os.path.basename(cwd)"
   ]
  },
  {
   "cell_type": "code",
   "execution_count": null,
   "metadata": {},
   "outputs": [
    {
     "data": {
      "text/plain": [
       "'/Users/andresalerno/Documents'"
      ]
     },
     "execution_count": 24,
     "metadata": {},
     "output_type": "execute_result"
    }
   ],
   "source": [
    "os.path.dirname(cwd)"
   ]
  },
  {
   "cell_type": "code",
   "execution_count": null,
   "metadata": {},
   "outputs": [
    {
     "data": {
      "text/plain": [
       "1673177375.852533"
      ]
     },
     "execution_count": 25,
     "metadata": {},
     "output_type": "execute_result"
    }
   ],
   "source": [
    "os.path.getatime(cwd)"
   ]
  },
  {
   "cell_type": "code",
   "execution_count": null,
   "metadata": {},
   "outputs": [
    {
     "data": {
      "text/plain": [
       "True"
      ]
     },
     "execution_count": 27,
     "metadata": {},
     "output_type": "execute_result"
    }
   ],
   "source": [
    "os.path.isfile('exercises.ipynb')"
   ]
  },
  {
   "cell_type": "code",
   "execution_count": null,
   "metadata": {},
   "outputs": [
    {
     "data": {
      "text/plain": [
       "('/Users/andresalerno/Documents', 'exercises')"
      ]
     },
     "execution_count": 28,
     "metadata": {},
     "output_type": "execute_result"
    }
   ],
   "source": [
    "os.path.split(cwd)"
   ]
  },
  {
   "cell_type": "code",
   "execution_count": null,
   "metadata": {},
   "outputs": [
    {
     "data": {
      "text/plain": [
       "('', '/Users/andresalerno/Documents/exercises')"
      ]
     },
     "execution_count": 29,
     "metadata": {},
     "output_type": "execute_result"
    }
   ],
   "source": [
    "os.path.splitdrive(cwd)"
   ]
  },
  {
   "attachments": {},
   "cell_type": "markdown",
   "metadata": {},
   "source": [
    "### Web Scraping"
   ]
  },
  {
   "cell_type": "code",
   "execution_count": 23,
   "metadata": {},
   "outputs": [],
   "source": [
    "import requests\n",
    "from bs4 import BeautifulSoup"
   ]
  },
  {
   "cell_type": "code",
   "execution_count": 24,
   "metadata": {},
   "outputs": [],
   "source": [
    "url = 'https://dados.cvm.gov.br/dados/FIDC/DOC/INF_MENSAL/DADOS/'\n",
    "\n",
    "reqs = requests.get(url)\n",
    "soup = BeautifulSoup(reqs.text, 'html.parser')\n",
    " \n",
    "urls = []\n",
    "for link in soup.find_all('a'):\n",
    "    urls.append(link.get('href'))"
   ]
  },
  {
   "cell_type": "code",
   "execution_count": 25,
   "metadata": {},
   "outputs": [],
   "source": [
    "# example: https://dados.cvm.gov.br/dados/FIDC/DOC/INF_MENSAL/DADOS/inf_mensal_fidc_201901.zip\n",
    "\n",
    "urls_filtered = urls[3:51]\n",
    "\n",
    "base_path = 'https://dados.cvm.gov.br/dados/FIDC/DOC/INF_MENSAL/DADOS'\n",
    "\n",
    "urls_full = []\n",
    "for url in urls_filtered:\n",
    "    urls_full.append(os.path.join(base_path, url))\n"
   ]
  },
  {
   "cell_type": "code",
   "execution_count": 28,
   "metadata": {},
   "outputs": [
    {
     "name": "stdout",
     "output_type": "stream",
     "text": [
      "['inf_mensal_fidc_201901.zip', 'inf_mensal_fidc_201902.zip', 'inf_mensal_fidc_201903.zip', 'inf_mensal_fidc_201904.zip', 'inf_mensal_fidc_201905.zip', 'inf_mensal_fidc_201906.zip', 'inf_mensal_fidc_201907.zip', 'inf_mensal_fidc_201908.zip', 'inf_mensal_fidc_201909.zip', 'inf_mensal_fidc_201910.zip', 'inf_mensal_fidc_201911.zip', 'inf_mensal_fidc_201912.zip', 'inf_mensal_fidc_202001.zip', 'inf_mensal_fidc_202002.zip', 'inf_mensal_fidc_202003.zip', 'inf_mensal_fidc_202004.zip', 'inf_mensal_fidc_202005.zip', 'inf_mensal_fidc_202006.zip', 'inf_mensal_fidc_202007.zip', 'inf_mensal_fidc_202008.zip', 'inf_mensal_fidc_202009.zip', 'inf_mensal_fidc_202010.zip', 'inf_mensal_fidc_202011.zip', 'inf_mensal_fidc_202012.zip', 'inf_mensal_fidc_202101.zip', 'inf_mensal_fidc_202102.zip', 'inf_mensal_fidc_202103.zip', 'inf_mensal_fidc_202104.zip', 'inf_mensal_fidc_202105.zip', 'inf_mensal_fidc_202106.zip', 'inf_mensal_fidc_202107.zip', 'inf_mensal_fidc_202108.zip', 'inf_mensal_fidc_202109.zip', 'inf_mensal_fidc_202110.zip', 'inf_mensal_fidc_202111.zip', 'inf_mensal_fidc_202112.zip', 'inf_mensal_fidc_202201.zip', 'inf_mensal_fidc_202202.zip', 'inf_mensal_fidc_202203.zip', 'inf_mensal_fidc_202204.zip', 'inf_mensal_fidc_202205.zip', 'inf_mensal_fidc_202206.zip', 'inf_mensal_fidc_202207.zip', 'inf_mensal_fidc_202208.zip', 'inf_mensal_fidc_202209.zip', 'inf_mensal_fidc_202210.zip', 'inf_mensal_fidc_202211.zip', 'inf_mensal_fidc_202212.zip']\n"
     ]
    }
   ],
   "source": [
    "urls_filtered = []\n",
    "for url in urls:\n",
    "    if url.startswith('inf_mensal_'):\n",
    "        urls_filtered.append(url)\n",
    "print(urls_filtered)"
   ]
  },
  {
   "cell_type": "code",
   "execution_count": 29,
   "metadata": {},
   "outputs": [
    {
     "data": {
      "text/plain": [
       "48"
      ]
     },
     "execution_count": 29,
     "metadata": {},
     "output_type": "execute_result"
    }
   ],
   "source": [
    "len(urls_filtered)"
   ]
  }
 ],
 "metadata": {
  "kernelspec": {
   "display_name": "Python 3",
   "language": "python",
   "name": "python3"
  },
  "language_info": {
   "codemirror_mode": {
    "name": "ipython",
    "version": 3
   },
   "file_extension": ".py",
   "mimetype": "text/x-python",
   "name": "python",
   "nbconvert_exporter": "python",
   "pygments_lexer": "ipython3",
   "version": "3.9.6"
  },
  "orig_nbformat": 4,
  "vscode": {
   "interpreter": {
    "hash": "aee8b7b246df8f9039afb4144a1f6fd8d2ca17a180786b69acc140d282b71a49"
   }
  }
 },
 "nbformat": 4,
 "nbformat_minor": 2
}
