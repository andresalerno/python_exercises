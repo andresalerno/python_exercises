{
 "cells": [
  {
   "cell_type": "markdown",
   "metadata": {},
   "source": [
    "# Using lines"
   ]
  },
  {
   "cell_type": "code",
   "execution_count": null,
   "metadata": {},
   "outputs": [],
   "source": [
    "import queue\n",
    "\n",
    "MyQueue = queue.Queue(3)\n",
    "\n",
    "print(\"Queue empty: \", MyQueue.empty())\n",
    "\n",
    "MyQueue.put(1)\n",
    "MyQueue.put(2)\n",
    "MyQueue.put(3)\n",
    "print(\"Queue full: \", MyQueue.full())\n",
    "\n",
    "print(\"Popping: \", MyQueue.get())\n",
    "print(\"Queue full: \", MyQueue.full())\n",
    "\n",
    "print(\"Popping: \", MyQueue.get())\n",
    "print(\"Popping: \", MyQueue.get())\n",
    "print(\"Queue empty: \", MyQueue.empty())"
   ]
  }
 ],
 "metadata": {
  "kernelspec": {
   "display_name": "Python 3",
   "language": "python",
   "name": "python3"
  },
  "language_info": {
   "codemirror_mode": {
    "name": "ipython",
    "version": 3
   },
   "file_extension": ".py",
   "mimetype": "text/x-python",
   "name": "python",
   "nbconvert_exporter": "python",
   "pygments_lexer": "ipython3",
   "version": "3.7.3"
  }
 },
 "nbformat": 4,
 "nbformat_minor": 2
}
