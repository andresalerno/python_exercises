{
 "cells": [
  {
   "cell_type": "markdown",
   "metadata": {},
   "source": [
    "# Dealing with missing values"
   ]
  },
  {
   "cell_type": "code",
   "execution_count": 3,
   "metadata": {},
   "outputs": [
    {
     "name": "stdout",
     "output_type": "stream",
     "text": [
      "      A  B    C\n",
      "0     0  1  NaN\n",
      "1     0  2    3\n",
      "2     1  3    4\n",
      "3  None  4    1 \n",
      "\n",
      "A    0\n",
      "B    2\n",
      "C    2\n",
      "dtype: int32 \n",
      "\n",
      "   A  B  C\n",
      "0  0  1  2\n",
      "1  0  2  3\n",
      "2  1  3  4\n",
      "3  0  4  1\n"
     ]
    }
   ],
   "source": [
    "import pandas as pd\n",
    "import numpy as np\n",
    "\n",
    "df = pd.DataFrame({\"A\": [0,0,1,None],\n",
    "                   \"B\": [1,2,3,4],\n",
    "                   \"C\": [np.NAN, 3,4,1]},\n",
    "                  dtype=int)\n",
    "\n",
    "print(df, \"\\n\")\n",
    "\n",
    "values = pd.Series(df.mean(), dtype=int)\n",
    "print(values, \"\\n\")\n",
    "\n",
    "df = df.fillna(values)\n",
    "print(df)"
   ]
  },
  {
   "cell_type": "code",
   "execution_count": null,
   "metadata": {},
   "outputs": [],
   "source": []
  }
 ],
 "metadata": {
  "kernelspec": {
   "display_name": "Python 3",
   "language": "python",
   "name": "python3"
  },
  "language_info": {
   "codemirror_mode": {
    "name": "ipython",
    "version": 3
   },
   "file_extension": ".py",
   "mimetype": "text/x-python",
   "name": "python",
   "nbconvert_exporter": "python",
   "pygments_lexer": "ipython3",
   "version": "3.7.3"
  }
 },
 "nbformat": 4,
 "nbformat_minor": 2
}
